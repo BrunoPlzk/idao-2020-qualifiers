{
 "cells": [
  {
   "cell_type": "markdown",
   "metadata": {},
   "source": [
    "# Solution"
   ]
  },
  {
   "cell_type": "code",
   "execution_count": 1,
   "metadata": {},
   "outputs": [],
   "source": [
    "%matplotlib inline"
   ]
  },
  {
   "cell_type": "markdown",
   "metadata": {},
   "source": [
    "## Preparation"
   ]
  },
  {
   "cell_type": "code",
   "execution_count": 2,
   "metadata": {},
   "outputs": [],
   "source": [
    "import pandas as pd\n",
    "\n",
    "io_params = {\n",
    "    'parse_dates': ['epoch']\n",
    "}\n",
    "\n",
    "train = pd.read_csv('data/train.csv', **io_params)"
   ]
  },
  {
   "cell_type": "markdown",
   "metadata": {},
   "source": [
    "Remove the duplicates."
   ]
  },
  {
   "cell_type": "code",
   "execution_count": 3,
   "metadata": {},
   "outputs": [
    {
     "name": "stderr",
     "output_type": "stream",
     "text": [
      "100%|██████████| 600/600 [00:05<00:00, 101.84it/s]\n"
     ]
    }
   ],
   "source": [
    "import datetime as dt\n",
    "import tqdm\n",
    "\n",
    "dtypes = train.dtypes.to_dict()\n",
    "\n",
    "cols_to_shift = train.columns.difference(['x_sim', 'y_sim', 'z_sim', 'Vx_sim', 'Vy_sim', 'Vz_sim'])\n",
    "\n",
    "train_sats = []\n",
    "\n",
    "for sat_id in tqdm.tqdm(train['sat_id'].unique(), position=0):\n",
    "    \n",
    "    g = train.query('sat_id == @sat_id').copy()\n",
    "    dups = g[g['epoch'].diff() < dt.timedelta(seconds=60)].index\n",
    "    \n",
    "    for i in reversed(dups):\n",
    "        g.loc[i:, cols_to_shift] = g.loc[i:, cols_to_shift].shift(-1)\n",
    "        \n",
    "    g = g.drop(g[g['x'].isnull()].index)\n",
    "    g['percent'] = pd.np.arange(1, len(g) + 1) / len(g)\n",
    "        \n",
    "    train_sats.append(g)\n",
    "    \n",
    "train = pd.concat(train_sats).astype(dtypes)"
   ]
  },
  {
   "cell_type": "markdown",
   "metadata": {},
   "source": [
    "Merge train and test."
   ]
  },
  {
   "cell_type": "code",
   "execution_count": 4,
   "metadata": {},
   "outputs": [],
   "source": [
    "test = pd.read_csv('data/Track 1/test.csv', **io_params)\n",
    "data = pd.concat((train, test), sort=False)\n",
    "data['is_train'] = data['x'].notnull()\n",
    "data = data.sort_values(['sat_id', 'epoch'])\n",
    "data['is_track_1'] = data['sat_id'].isin(data.query('not is_train')['sat_id'].unique())"
   ]
  },
  {
   "cell_type": "markdown",
   "metadata": {},
   "source": [
    "Implement SMAPE."
   ]
  },
  {
   "cell_type": "code",
   "execution_count": 5,
   "metadata": {},
   "outputs": [],
   "source": [
    "import numpy as np\n",
    "\n",
    "def smape(y_true, y_pred): \n",
    "    return np.mean(np.abs((y_pred - y_true) / (np.abs(y_pred) + np.abs(y_true))))"
   ]
  },
  {
   "cell_type": "markdown",
   "metadata": {},
   "source": [
    "Implement a generic auto-regressive model."
   ]
  },
  {
   "cell_type": "code",
   "execution_count": 6,
   "metadata": {},
   "outputs": [],
   "source": [
    "class ARModel:\n",
    "    \n",
    "    def __init__(self, p, model):\n",
    "        self.p = p\n",
    "        self.model = model\n",
    "    \n",
    "    def fit(self, path):\n",
    "        \n",
    "        n = path.strides[0]\n",
    "        X = np.lib.stride_tricks.as_strided(path, shape=(path.shape[0], self.p), strides=(n, n))[:-self.p]\n",
    "        Y = path[self.p:]\n",
    "        \n",
    "        # Save the most recent history for later usage\n",
    "        # Conceptually history is a list, but we give it an extra dimension because sklearn eats matrices\n",
    "        self.history = path[-self.p:].reshape(1, -1)\n",
    "        \n",
    "        self.model.fit(X, Y)\n",
    "        \n",
    "    def forecast(self, steps):\n",
    "        \n",
    "        history = self.history.copy()\n",
    "        predictions = np.empty(steps)\n",
    "        \n",
    "        for i in range(steps):\n",
    "            \n",
    "            y_pred = self.model.predict(history)[0]    \n",
    "            predictions[i] = y_pred\n",
    "            \n",
    "            # Shift forward (faster than np.roll)\n",
    "            history[0, :-1] = history[0, 1:]\n",
    "            history[0, -1] = y_pred\n",
    "            \n",
    "        return predictions"
   ]
  },
  {
   "cell_type": "markdown",
   "metadata": {},
   "source": [
    "## Local validation"
   ]
  },
  {
   "cell_type": "code",
   "execution_count": 7,
   "metadata": {},
   "outputs": [
    {
     "name": "stderr",
     "output_type": "stream",
     "text": [
      "100%|██████████| 600/600 [00:36<00:00, 16.61it/s]\n"
     ]
    }
   ],
   "source": [
    "import sklearn\n",
    "from sklearn import compose\n",
    "from sklearn import linear_model\n",
    "from sklearn import pipeline\n",
    "from sklearn import preprocessing\n",
    "import tqdm\n",
    "\n",
    "preds = []\n",
    "\n",
    "\n",
    "class Pipeline:\n",
    "    \"\"\"Barebones implementation with less overhead than sklearn.\"\"\"\n",
    "    \n",
    "    def __init__(self, *steps):\n",
    "        self.steps = steps\n",
    "    \n",
    "    def fit(self, X, y):\n",
    "        for transformer in self.steps[:-1]:\n",
    "            X = transformer.fit_transform(X, y)\n",
    "        self.steps[-1].fit(X, y)\n",
    "        return self\n",
    "    \n",
    "    def predict(self, X):\n",
    "        for transformer in self.steps[:-1]:\n",
    "            X = transformer.transform(X)\n",
    "        return self.steps[-1].predict(X)\n",
    "\n",
    "\n",
    "class StandardScaler(preprocessing.StandardScaler):\n",
    "    \"\"\"Barebones implementation with less overhead than sklearn.\"\"\"\n",
    "    \n",
    "    def transform(self, X):\n",
    "        return (X - self.mean_) / self.var_ ** .5\n",
    "    \n",
    "    \n",
    "class LinearRegression(linear_model.LinearRegression):\n",
    "    \"\"\"Barebones implementation with less overhead than sklearn.\"\"\"\n",
    "    \n",
    "    def predict(self, X):\n",
    "        return np.dot(X, self.coef_) + self.intercept_\n",
    "\n",
    "    \n",
    "model = ARModel(\n",
    "    p=48,\n",
    "    model=Pipeline(\n",
    "        StandardScaler(),\n",
    "        LinearRegression()\n",
    "    )\n",
    ")\n",
    "\n",
    "train = data.query('is_train')\n",
    "\n",
    "for sat, g in tqdm.tqdm(train.assign(is_fit=train.eval('percent < .6')).groupby('sat_id'), position=0):\n",
    "    \n",
    "    fit = g.query('is_fit')\n",
    "    val = g.query('not is_fit')\n",
    "    \n",
    "    for var in ('x', 'y', 'z', 'Vx', 'Vy', 'Vz'):\n",
    "        \n",
    "        model.fit(fit[var].to_numpy())\n",
    "        pred = model.forecast(len(val))\n",
    "\n",
    "        preds.append(pd.DataFrame({\n",
    "            'sat_id': sat,\n",
    "            'epoch': val['epoch'],\n",
    "            'y_true': val[var],\n",
    "            'y_pred': pred,\n",
    "            'variable': var\n",
    "        }))\n",
    "        \n",
    "preds = pd.concat(preds)"
   ]
  },
  {
   "cell_type": "code",
   "execution_count": 8,
   "metadata": {},
   "outputs": [
    {
     "data": {
      "text/plain": [
       "97.5713206421313"
      ]
     },
     "execution_count": 8,
     "metadata": {},
     "output_type": "execute_result"
    }
   ],
   "source": [
    "smapes = preds.groupby(['sat_id', 'variable']).apply(lambda g: smape(g['y_true'], g['y_pred']))\n",
    "mean_smape = smapes.mean()\n",
    "100 * (1 - mean_smape)"
   ]
  },
  {
   "cell_type": "markdown",
   "metadata": {},
   "source": [
    "Save the validation SMAPEs for further comparison and blending with other methods."
   ]
  },
  {
   "cell_type": "code",
   "execution_count": 9,
   "metadata": {},
   "outputs": [
    {
     "name": "stdout",
     "output_type": "stream",
     "text": [
      "sat_id,variable,smape\n",
      "0,Vx,0.0005970701556173192\n",
      "0,Vy,0.0003636738878867748\n",
      "0,Vz,0.00017282723316789216\n",
      "0,x,0.0017613854970023823\n",
      "0,y,0.00025717131530660314\n",
      "0,z,0.0006687015293489595\n",
      "1,Vx,0.0031092783188818502\n",
      "1,Vy,0.0009305197943052433\n",
      "1,Vz,0.0037287808879610447\n"
     ]
    }
   ],
   "source": [
    "smapes.rename('smape').to_csv('results/ar_val_scores.csv', header=True)\n",
    "!head results/ar_val_scores.csv"
   ]
  },
  {
   "cell_type": "markdown",
   "metadata": {},
   "source": [
    "Use estimated positions to predict speed"
   ]
  },
  {
   "cell_type": "code",
   "execution_count": 10,
   "metadata": {},
   "outputs": [
    {
     "data": {
      "text/html": [
       "<div>\n",
       "<style scoped>\n",
       "    .dataframe tbody tr th:only-of-type {\n",
       "        vertical-align: middle;\n",
       "    }\n",
       "\n",
       "    .dataframe tbody tr th {\n",
       "        vertical-align: top;\n",
       "    }\n",
       "\n",
       "    .dataframe thead th {\n",
       "        text-align: right;\n",
       "    }\n",
       "</style>\n",
       "<table border=\"1\" class=\"dataframe\">\n",
       "  <thead>\n",
       "    <tr style=\"text-align: right;\">\n",
       "      <th>variable</th>\n",
       "      <th>sat_id</th>\n",
       "      <th>epoch</th>\n",
       "      <th>Vx</th>\n",
       "      <th>Vy</th>\n",
       "      <th>Vz</th>\n",
       "      <th>x</th>\n",
       "      <th>y</th>\n",
       "      <th>z</th>\n",
       "    </tr>\n",
       "  </thead>\n",
       "  <tbody>\n",
       "    <tr>\n",
       "      <th>0</th>\n",
       "      <td>0</td>\n",
       "      <td>2014-01-19 14:08:39.284999936</td>\n",
       "      <td>-1.526807</td>\n",
       "      <td>0.052730</td>\n",
       "      <td>-3.521541</td>\n",
       "      <td>3367.336471</td>\n",
       "      <td>29830.399180</td>\n",
       "      <td>6888.635609</td>\n",
       "    </tr>\n",
       "    <tr>\n",
       "      <th>1</th>\n",
       "      <td>0</td>\n",
       "      <td>2014-01-19 14:55:22.286000128</td>\n",
       "      <td>-1.574304</td>\n",
       "      <td>-1.215272</td>\n",
       "      <td>-3.593862</td>\n",
       "      <td>-1020.504298</td>\n",
       "      <td>28255.630705</td>\n",
       "      <td>-3181.218266</td>\n",
       "    </tr>\n",
       "    <tr>\n",
       "      <th>2</th>\n",
       "      <td>0</td>\n",
       "      <td>2014-01-19 15:42:05.286000128</td>\n",
       "      <td>-1.400334</td>\n",
       "      <td>-2.601127</td>\n",
       "      <td>-3.152064</td>\n",
       "      <td>-5249.933015</td>\n",
       "      <td>22900.068540</td>\n",
       "      <td>-12774.903885</td>\n",
       "    </tr>\n",
       "    <tr>\n",
       "      <th>3</th>\n",
       "      <td>0</td>\n",
       "      <td>2014-01-19 16:28:48.287000064</td>\n",
       "      <td>-0.966748</td>\n",
       "      <td>-3.744041</td>\n",
       "      <td>-2.118757</td>\n",
       "      <td>-8623.524684</td>\n",
       "      <td>13899.066184</td>\n",
       "      <td>-20288.238119</td>\n",
       "    </tr>\n",
       "    <tr>\n",
       "      <th>4</th>\n",
       "      <td>0</td>\n",
       "      <td>2014-01-19 17:15:31.287000064</td>\n",
       "      <td>-0.366184</td>\n",
       "      <td>-4.263117</td>\n",
       "      <td>-0.718761</td>\n",
       "      <td>-10510.274380</td>\n",
       "      <td>2505.095957</td>\n",
       "      <td>-24302.995039</td>\n",
       "    </tr>\n",
       "  </tbody>\n",
       "</table>\n",
       "</div>"
      ],
      "text/plain": [
       "variable  sat_id                         epoch        Vx        Vy        Vz  \\\n",
       "0              0 2014-01-19 14:08:39.284999936 -1.526807  0.052730 -3.521541   \n",
       "1              0 2014-01-19 14:55:22.286000128 -1.574304 -1.215272 -3.593862   \n",
       "2              0 2014-01-19 15:42:05.286000128 -1.400334 -2.601127 -3.152064   \n",
       "3              0 2014-01-19 16:28:48.287000064 -0.966748 -3.744041 -2.118757   \n",
       "4              0 2014-01-19 17:15:31.287000064 -0.366184 -4.263117 -0.718761   \n",
       "\n",
       "variable             x             y             z  \n",
       "0          3367.336471  29830.399180   6888.635609  \n",
       "1         -1020.504298  28255.630705  -3181.218266  \n",
       "2         -5249.933015  22900.068540 -12774.903885  \n",
       "3         -8623.524684  13899.066184 -20288.238119  \n",
       "4        -10510.274380   2505.095957 -24302.995039  "
      ]
     },
     "execution_count": 10,
     "metadata": {},
     "output_type": "execute_result"
    }
   ],
   "source": [
    "truth_val = preds.groupby('sat_id').apply(lambda g: g.pivot_table(index=['epoch'], columns='variable', values='y_true')).reset_index()\n",
    "preds = preds.groupby('sat_id').apply(lambda g: g.pivot_table(index=['epoch'], columns='variable', values='y_pred')).reset_index()\n",
    "preds.head()"
   ]
  },
  {
   "cell_type": "code",
   "execution_count": 11,
   "metadata": {},
   "outputs": [
    {
     "data": {
      "text/html": [
       "<div>\n",
       "<style scoped>\n",
       "    .dataframe tbody tr th:only-of-type {\n",
       "        vertical-align: middle;\n",
       "    }\n",
       "\n",
       "    .dataframe tbody tr th {\n",
       "        vertical-align: top;\n",
       "    }\n",
       "\n",
       "    .dataframe thead th {\n",
       "        text-align: right;\n",
       "    }\n",
       "</style>\n",
       "<table border=\"1\" class=\"dataframe\">\n",
       "  <thead>\n",
       "    <tr style=\"text-align: right;\">\n",
       "      <th>variable</th>\n",
       "      <th>sat_id</th>\n",
       "      <th>epoch</th>\n",
       "      <th>Vx</th>\n",
       "      <th>Vy</th>\n",
       "      <th>Vz</th>\n",
       "      <th>x</th>\n",
       "      <th>y</th>\n",
       "      <th>z</th>\n",
       "    </tr>\n",
       "  </thead>\n",
       "  <tbody>\n",
       "    <tr>\n",
       "      <th>0</th>\n",
       "      <td>0</td>\n",
       "      <td>2014-01-19 14:08:39.284999936</td>\n",
       "      <td>-1.565408</td>\n",
       "      <td>-0.561815</td>\n",
       "      <td>-3.592526</td>\n",
       "      <td>3367.336471</td>\n",
       "      <td>29830.399180</td>\n",
       "      <td>6888.635609</td>\n",
       "    </tr>\n",
       "    <tr>\n",
       "      <th>1</th>\n",
       "      <td>0</td>\n",
       "      <td>2014-01-19 14:55:22.286000128</td>\n",
       "      <td>-1.508893</td>\n",
       "      <td>-1.910653</td>\n",
       "      <td>-3.422648</td>\n",
       "      <td>-1020.504298</td>\n",
       "      <td>28255.630705</td>\n",
       "      <td>-3181.218266</td>\n",
       "    </tr>\n",
       "    <tr>\n",
       "      <th>2</th>\n",
       "      <td>0</td>\n",
       "      <td>2014-01-19 15:42:05.286000128</td>\n",
       "      <td>-1.203565</td>\n",
       "      <td>-3.211203</td>\n",
       "      <td>-2.680462</td>\n",
       "      <td>-5249.933015</td>\n",
       "      <td>22900.068540</td>\n",
       "      <td>-12774.903885</td>\n",
       "    </tr>\n",
       "    <tr>\n",
       "      <th>3</th>\n",
       "      <td>0</td>\n",
       "      <td>2014-01-19 16:28:48.287000064</td>\n",
       "      <td>-0.673118</td>\n",
       "      <td>-4.064918</td>\n",
       "      <td>-1.432307</td>\n",
       "      <td>-8623.524684</td>\n",
       "      <td>13899.066184</td>\n",
       "      <td>-20288.238119</td>\n",
       "    </tr>\n",
       "    <tr>\n",
       "      <th>4</th>\n",
       "      <td>0</td>\n",
       "      <td>2014-01-19 17:15:31.287000064</td>\n",
       "      <td>-0.063926</td>\n",
       "      <td>-4.224444</td>\n",
       "      <td>-0.023003</td>\n",
       "      <td>-10510.274380</td>\n",
       "      <td>2505.095957</td>\n",
       "      <td>-24302.995039</td>\n",
       "    </tr>\n",
       "  </tbody>\n",
       "</table>\n",
       "</div>"
      ],
      "text/plain": [
       "variable  sat_id                         epoch        Vx        Vy        Vz  \\\n",
       "0              0 2014-01-19 14:08:39.284999936 -1.565408 -0.561815 -3.592526   \n",
       "1              0 2014-01-19 14:55:22.286000128 -1.508893 -1.910653 -3.422648   \n",
       "2              0 2014-01-19 15:42:05.286000128 -1.203565 -3.211203 -2.680462   \n",
       "3              0 2014-01-19 16:28:48.287000064 -0.673118 -4.064918 -1.432307   \n",
       "4              0 2014-01-19 17:15:31.287000064 -0.063926 -4.224444 -0.023003   \n",
       "\n",
       "variable             x             y             z  \n",
       "0          3367.336471  29830.399180   6888.635609  \n",
       "1         -1020.504298  28255.630705  -3181.218266  \n",
       "2         -5249.933015  22900.068540 -12774.903885  \n",
       "3         -8623.524684  13899.066184 -20288.238119  \n",
       "4        -10510.274380   2505.095957 -24302.995039  "
      ]
     },
     "execution_count": 11,
     "metadata": {},
     "output_type": "execute_result"
    }
   ],
   "source": [
    "speed_preds = preds.copy()\n",
    "\n",
    "#Get the time difference between two observations in seconds\n",
    "preds[\"time_delta\"] = preds.groupby('sat_id').epoch.diff().bfill()\n",
    "preds[\"time_delta\"] = preds['time_delta'].apply(lambda t: t.total_seconds())\n",
    "\n",
    "for var in ('x', 'y', 'z'):\n",
    "    speed_preds[f\"V{var}\"] = preds.groupby('sat_id')[var].diff().shift(-1).ffill() / preds.time_delta\n",
    "\n",
    "speed_preds.head()"
   ]
  },
  {
   "cell_type": "code",
   "execution_count": 12,
   "metadata": {},
   "outputs": [
    {
     "data": {
      "text/html": [
       "<div>\n",
       "<style scoped>\n",
       "    .dataframe tbody tr th:only-of-type {\n",
       "        vertical-align: middle;\n",
       "    }\n",
       "\n",
       "    .dataframe tbody tr th {\n",
       "        vertical-align: top;\n",
       "    }\n",
       "\n",
       "    .dataframe thead th {\n",
       "        text-align: right;\n",
       "    }\n",
       "</style>\n",
       "<table border=\"1\" class=\"dataframe\">\n",
       "  <thead>\n",
       "    <tr style=\"text-align: right;\">\n",
       "      <th></th>\n",
       "      <th>sat_id</th>\n",
       "      <th>variable</th>\n",
       "      <th>smape</th>\n",
       "    </tr>\n",
       "  </thead>\n",
       "  <tbody>\n",
       "    <tr>\n",
       "      <th>0</th>\n",
       "      <td>0</td>\n",
       "      <td>Vx</td>\n",
       "      <td>0.140543</td>\n",
       "    </tr>\n",
       "    <tr>\n",
       "      <th>0</th>\n",
       "      <td>0</td>\n",
       "      <td>Vy</td>\n",
       "      <td>0.164085</td>\n",
       "    </tr>\n",
       "    <tr>\n",
       "      <th>0</th>\n",
       "      <td>0</td>\n",
       "      <td>Vz</td>\n",
       "      <td>0.155479</td>\n",
       "    </tr>\n",
       "    <tr>\n",
       "      <th>0</th>\n",
       "      <td>1</td>\n",
       "      <td>Vx</td>\n",
       "      <td>0.153289</td>\n",
       "    </tr>\n",
       "    <tr>\n",
       "      <th>0</th>\n",
       "      <td>1</td>\n",
       "      <td>Vy</td>\n",
       "      <td>0.149691</td>\n",
       "    </tr>\n",
       "  </tbody>\n",
       "</table>\n",
       "</div>"
      ],
      "text/plain": [
       "   sat_id variable     smape\n",
       "0       0       Vx  0.140543\n",
       "0       0       Vy  0.164085\n",
       "0       0       Vz  0.155479\n",
       "0       1       Vx  0.153289\n",
       "0       1       Vy  0.149691"
      ]
     },
     "execution_count": 12,
     "metadata": {},
     "output_type": "execute_result"
    }
   ],
   "source": [
    "list_smape = []\n",
    "for sat, g in speed_preds.groupby('sat_id'):\n",
    "    truth = truth_val.query('sat_id == @sat')\n",
    "    for var in ('Vx', 'Vy', 'Vz'):\n",
    "        list_smape.append(pd.DataFrame({\n",
    "            'sat_id': [sat],\n",
    "            'variable': [var],\n",
    "            'smape': [smape(truth[var].values, g[var].values)]\n",
    "        }))\n",
    "list_smape = pd.concat(list_smape)\n",
    "list_smape.head()"
   ]
  },
  {
   "cell_type": "code",
   "execution_count": 13,
   "metadata": {},
   "outputs": [
    {
     "name": "stdout",
     "output_type": "stream",
     "text": [
      "sat_id,variable,smape\n",
      "0,Vx,0.1405427885947127\n",
      "0,Vy,0.16408502260307983\n",
      "0,Vz,0.15547919421757386\n",
      "1,Vx,0.15328904162060672\n",
      "1,Vy,0.14969053004583935\n",
      "1,Vz,0.1665692143367779\n",
      "2,Vx,0.1543306255096227\n",
      "2,Vy,0.15838883756807873\n",
      "2,Vz,0.16928327067205654\n"
     ]
    }
   ],
   "source": [
    "list_smape.to_csv('results/ar_speed_val_scores.csv', header=True, index=False)\n",
    "!head results/ar_speed_val_scores.csv"
   ]
  },
  {
   "cell_type": "markdown",
   "metadata": {},
   "source": [
    "## Track 1"
   ]
  },
  {
   "cell_type": "markdown",
   "metadata": {},
   "source": [
    "Make predictions for the test set."
   ]
  },
  {
   "cell_type": "code",
   "execution_count": 14,
   "metadata": {},
   "outputs": [
    {
     "name": "stderr",
     "output_type": "stream",
     "text": [
      "100%|██████████| 300/300 [00:31<00:00,  9.46it/s]\n"
     ]
    },
    {
     "data": {
      "text/html": [
       "<div>\n",
       "<style scoped>\n",
       "    .dataframe tbody tr th:only-of-type {\n",
       "        vertical-align: middle;\n",
       "    }\n",
       "\n",
       "    .dataframe tbody tr th {\n",
       "        vertical-align: top;\n",
       "    }\n",
       "\n",
       "    .dataframe thead th {\n",
       "        text-align: right;\n",
       "    }\n",
       "</style>\n",
       "<table border=\"1\" class=\"dataframe\">\n",
       "  <thead>\n",
       "    <tr style=\"text-align: right;\">\n",
       "      <th></th>\n",
       "      <th>sat_id</th>\n",
       "      <th>id</th>\n",
       "      <th>epoch</th>\n",
       "      <th>y_pred</th>\n",
       "      <th>variable</th>\n",
       "    </tr>\n",
       "  </thead>\n",
       "  <tbody>\n",
       "    <tr>\n",
       "      <th>0</th>\n",
       "      <td>1</td>\n",
       "      <td>3927</td>\n",
       "      <td>2014-02-01 00:01:45.162</td>\n",
       "      <td>-24791.216496</td>\n",
       "      <td>x</td>\n",
       "    </tr>\n",
       "    <tr>\n",
       "      <th>1</th>\n",
       "      <td>1</td>\n",
       "      <td>3928</td>\n",
       "      <td>2014-02-01 00:22:57.007</td>\n",
       "      <td>-21087.026330</td>\n",
       "      <td>x</td>\n",
       "    </tr>\n",
       "    <tr>\n",
       "      <th>2</th>\n",
       "      <td>1</td>\n",
       "      <td>3929</td>\n",
       "      <td>2014-02-01 00:44:08.852</td>\n",
       "      <td>-16579.831302</td>\n",
       "      <td>x</td>\n",
       "    </tr>\n",
       "    <tr>\n",
       "      <th>3</th>\n",
       "      <td>1</td>\n",
       "      <td>3930</td>\n",
       "      <td>2014-02-01 01:05:20.697</td>\n",
       "      <td>-11202.732371</td>\n",
       "      <td>x</td>\n",
       "    </tr>\n",
       "    <tr>\n",
       "      <th>4</th>\n",
       "      <td>1</td>\n",
       "      <td>3931</td>\n",
       "      <td>2014-02-01 01:26:32.542</td>\n",
       "      <td>-4934.229045</td>\n",
       "      <td>x</td>\n",
       "    </tr>\n",
       "  </tbody>\n",
       "</table>\n",
       "</div>"
      ],
      "text/plain": [
       "   sat_id    id                   epoch        y_pred variable\n",
       "0       1  3927 2014-02-01 00:01:45.162 -24791.216496        x\n",
       "1       1  3928 2014-02-01 00:22:57.007 -21087.026330        x\n",
       "2       1  3929 2014-02-01 00:44:08.852 -16579.831302        x\n",
       "3       1  3930 2014-02-01 01:05:20.697 -11202.732371        x\n",
       "4       1  3931 2014-02-01 01:26:32.542  -4934.229045        x"
      ]
     },
     "execution_count": 14,
     "metadata": {},
     "output_type": "execute_result"
    }
   ],
   "source": [
    "preds = []\n",
    "\n",
    "train_sats = data.query('is_train and is_track_1')\n",
    "test_sats = data.query('not is_train and is_track_1')\n",
    "\n",
    "for sat in tqdm.tqdm(test_sats['sat_id'].unique(), position=0):\n",
    "\n",
    "    train = train_sats.query('sat_id == @sat')\n",
    "    test = test_sats.query('sat_id == @sat')\n",
    "\n",
    "    for var in ('x', 'y', 'z', 'Vx', 'Vy', 'Vz'):\n",
    "\n",
    "        model.fit(train[var].to_numpy())\n",
    "        pred = model.forecast(len(test))\n",
    "\n",
    "        preds.append(pd.DataFrame({\n",
    "            'sat_id': test['sat_id'],\n",
    "            'id': test['id'],\n",
    "            'epoch': test['epoch'],\n",
    "            'y_pred': pred,\n",
    "            'variable': var\n",
    "        }))\n",
    "        \n",
    "preds = pd.concat(preds)\n",
    "preds.head()"
   ]
  },
  {
   "cell_type": "code",
   "execution_count": 15,
   "metadata": {},
   "outputs": [
    {
     "data": {
      "text/plain": [
       "1704426"
      ]
     },
     "execution_count": 15,
     "metadata": {},
     "output_type": "execute_result"
    }
   ],
   "source": [
    "len(preds)"
   ]
  },
  {
   "cell_type": "markdown",
   "metadata": {},
   "source": [
    "The predictions are melted, so we unmelt them."
   ]
  },
  {
   "cell_type": "code",
   "execution_count": 16,
   "metadata": {},
   "outputs": [
    {
     "data": {
      "text/html": [
       "<div>\n",
       "<style scoped>\n",
       "    .dataframe tbody tr th:only-of-type {\n",
       "        vertical-align: middle;\n",
       "    }\n",
       "\n",
       "    .dataframe tbody tr th {\n",
       "        vertical-align: top;\n",
       "    }\n",
       "\n",
       "    .dataframe thead th {\n",
       "        text-align: right;\n",
       "    }\n",
       "</style>\n",
       "<table border=\"1\" class=\"dataframe\">\n",
       "  <thead>\n",
       "    <tr style=\"text-align: right;\">\n",
       "      <th>variable</th>\n",
       "      <th>sat_id</th>\n",
       "      <th>id</th>\n",
       "      <th>epoch</th>\n",
       "      <th>Vx</th>\n",
       "      <th>Vy</th>\n",
       "      <th>Vz</th>\n",
       "      <th>x</th>\n",
       "      <th>y</th>\n",
       "      <th>z</th>\n",
       "    </tr>\n",
       "  </thead>\n",
       "  <tbody>\n",
       "    <tr>\n",
       "      <th>0</th>\n",
       "      <td>1</td>\n",
       "      <td>3927</td>\n",
       "      <td>2014-02-01 00:01:45.162</td>\n",
       "      <td>2.614250</td>\n",
       "      <td>-1.303894</td>\n",
       "      <td>1.087091</td>\n",
       "      <td>-24791.216496</td>\n",
       "      <td>-10910.678758</td>\n",
       "      <td>6570.591143</td>\n",
       "    </tr>\n",
       "    <tr>\n",
       "      <th>1</th>\n",
       "      <td>1</td>\n",
       "      <td>3928</td>\n",
       "      <td>2014-02-01 00:22:57.007</td>\n",
       "      <td>3.219142</td>\n",
       "      <td>-0.994539</td>\n",
       "      <td>0.895780</td>\n",
       "      <td>-21087.026330</td>\n",
       "      <td>-12384.401306</td>\n",
       "      <td>7840.063865</td>\n",
       "    </tr>\n",
       "    <tr>\n",
       "      <th>2</th>\n",
       "      <td>1</td>\n",
       "      <td>3929</td>\n",
       "      <td>2014-02-01 00:44:08.852</td>\n",
       "      <td>3.877770</td>\n",
       "      <td>-0.539693</td>\n",
       "      <td>0.601826</td>\n",
       "      <td>-16579.831302</td>\n",
       "      <td>-13379.440557</td>\n",
       "      <td>8806.129427</td>\n",
       "    </tr>\n",
       "    <tr>\n",
       "      <th>3</th>\n",
       "      <td>1</td>\n",
       "      <td>3930</td>\n",
       "      <td>2014-02-01 01:05:20.697</td>\n",
       "      <td>4.582811</td>\n",
       "      <td>0.157078</td>\n",
       "      <td>0.134822</td>\n",
       "      <td>-11202.732371</td>\n",
       "      <td>-13655.956823</td>\n",
       "      <td>9298.513352</td>\n",
       "    </tr>\n",
       "    <tr>\n",
       "      <th>4</th>\n",
       "      <td>1</td>\n",
       "      <td>3931</td>\n",
       "      <td>2014-02-01 01:26:32.542</td>\n",
       "      <td>5.251436</td>\n",
       "      <td>1.293476</td>\n",
       "      <td>-0.653268</td>\n",
       "      <td>-4934.229045</td>\n",
       "      <td>-12796.448989</td>\n",
       "      <td>9015.294227</td>\n",
       "    </tr>\n",
       "  </tbody>\n",
       "</table>\n",
       "</div>"
      ],
      "text/plain": [
       "variable  sat_id    id                   epoch        Vx        Vy        Vz  \\\n",
       "0              1  3927 2014-02-01 00:01:45.162  2.614250 -1.303894  1.087091   \n",
       "1              1  3928 2014-02-01 00:22:57.007  3.219142 -0.994539  0.895780   \n",
       "2              1  3929 2014-02-01 00:44:08.852  3.877770 -0.539693  0.601826   \n",
       "3              1  3930 2014-02-01 01:05:20.697  4.582811  0.157078  0.134822   \n",
       "4              1  3931 2014-02-01 01:26:32.542  5.251436  1.293476 -0.653268   \n",
       "\n",
       "variable             x             y            z  \n",
       "0        -24791.216496 -10910.678758  6570.591143  \n",
       "1        -21087.026330 -12384.401306  7840.063865  \n",
       "2        -16579.831302 -13379.440557  8806.129427  \n",
       "3        -11202.732371 -13655.956823  9298.513352  \n",
       "4         -4934.229045 -12796.448989  9015.294227  "
      ]
     },
     "execution_count": 16,
     "metadata": {},
     "output_type": "execute_result"
    }
   ],
   "source": [
    "preds = preds.groupby('sat_id').apply(lambda g: g.pivot_table(index=['id', 'epoch'], columns='variable', values='y_pred')).reset_index()\n",
    "preds.head()"
   ]
  },
  {
   "cell_type": "markdown",
   "metadata": {},
   "source": [
    "Take into account the shifts."
   ]
  },
  {
   "cell_type": "code",
   "execution_count": 17,
   "metadata": {},
   "outputs": [
    {
     "name": "stderr",
     "output_type": "stream",
     "text": [
      "100%|██████████| 300/300 [00:01<00:00, 234.02it/s]\n"
     ]
    }
   ],
   "source": [
    "correct_preds = []\n",
    "\n",
    "cols_to_shift = ['x', 'y', 'z', 'Vx', 'Vy', 'Vz']\n",
    "\n",
    "for _, g in tqdm.tqdm(preds.groupby('sat_id'), position=0):\n",
    "    \n",
    "    g = g.copy()\n",
    "    dups = g[g['epoch'].diff() < dt.timedelta(seconds=60)].index\n",
    "    \n",
    "    for i in dups:\n",
    "        g.loc[i:, cols_to_shift] = g.loc[i:, cols_to_shift].shift()\n",
    "    g[cols_to_shift] = g[cols_to_shift].ffill()\n",
    "    \n",
    "    correct_preds.append(g)\n",
    "    \n",
    "correct_preds = pd.concat(correct_preds)"
   ]
  },
  {
   "cell_type": "code",
   "execution_count": 18,
   "metadata": {},
   "outputs": [
    {
     "data": {
      "text/html": [
       "<div>\n",
       "<style scoped>\n",
       "    .dataframe tbody tr th:only-of-type {\n",
       "        vertical-align: middle;\n",
       "    }\n",
       "\n",
       "    .dataframe tbody tr th {\n",
       "        vertical-align: top;\n",
       "    }\n",
       "\n",
       "    .dataframe thead th {\n",
       "        text-align: right;\n",
       "    }\n",
       "</style>\n",
       "<table border=\"1\" class=\"dataframe\">\n",
       "  <thead>\n",
       "    <tr style=\"text-align: right;\">\n",
       "      <th>variable</th>\n",
       "      <th>sat_id</th>\n",
       "      <th>id</th>\n",
       "      <th>epoch</th>\n",
       "      <th>Vx</th>\n",
       "      <th>Vy</th>\n",
       "      <th>Vz</th>\n",
       "      <th>x</th>\n",
       "      <th>y</th>\n",
       "      <th>z</th>\n",
       "    </tr>\n",
       "  </thead>\n",
       "  <tbody>\n",
       "    <tr>\n",
       "      <th>0</th>\n",
       "      <td>1</td>\n",
       "      <td>3927</td>\n",
       "      <td>2014-02-01 00:01:45.162</td>\n",
       "      <td>2.614250</td>\n",
       "      <td>-1.303894</td>\n",
       "      <td>1.087091</td>\n",
       "      <td>-24791.216496</td>\n",
       "      <td>-10910.678758</td>\n",
       "      <td>6570.591143</td>\n",
       "    </tr>\n",
       "    <tr>\n",
       "      <th>1</th>\n",
       "      <td>1</td>\n",
       "      <td>3928</td>\n",
       "      <td>2014-02-01 00:22:57.007</td>\n",
       "      <td>3.219142</td>\n",
       "      <td>-0.994539</td>\n",
       "      <td>0.895780</td>\n",
       "      <td>-21087.026330</td>\n",
       "      <td>-12384.401306</td>\n",
       "      <td>7840.063865</td>\n",
       "    </tr>\n",
       "    <tr>\n",
       "      <th>2</th>\n",
       "      <td>1</td>\n",
       "      <td>3929</td>\n",
       "      <td>2014-02-01 00:44:08.852</td>\n",
       "      <td>3.877770</td>\n",
       "      <td>-0.539693</td>\n",
       "      <td>0.601826</td>\n",
       "      <td>-16579.831302</td>\n",
       "      <td>-13379.440557</td>\n",
       "      <td>8806.129427</td>\n",
       "    </tr>\n",
       "    <tr>\n",
       "      <th>3</th>\n",
       "      <td>1</td>\n",
       "      <td>3930</td>\n",
       "      <td>2014-02-01 01:05:20.697</td>\n",
       "      <td>4.582811</td>\n",
       "      <td>0.157078</td>\n",
       "      <td>0.134822</td>\n",
       "      <td>-11202.732371</td>\n",
       "      <td>-13655.956823</td>\n",
       "      <td>9298.513352</td>\n",
       "    </tr>\n",
       "    <tr>\n",
       "      <th>4</th>\n",
       "      <td>1</td>\n",
       "      <td>3931</td>\n",
       "      <td>2014-02-01 01:26:32.542</td>\n",
       "      <td>5.251436</td>\n",
       "      <td>1.293476</td>\n",
       "      <td>-0.653268</td>\n",
       "      <td>-4934.229045</td>\n",
       "      <td>-12796.448989</td>\n",
       "      <td>9015.294227</td>\n",
       "    </tr>\n",
       "  </tbody>\n",
       "</table>\n",
       "</div>"
      ],
      "text/plain": [
       "variable  sat_id    id                   epoch        Vx        Vy        Vz  \\\n",
       "0              1  3927 2014-02-01 00:01:45.162  2.614250 -1.303894  1.087091   \n",
       "1              1  3928 2014-02-01 00:22:57.007  3.219142 -0.994539  0.895780   \n",
       "2              1  3929 2014-02-01 00:44:08.852  3.877770 -0.539693  0.601826   \n",
       "3              1  3930 2014-02-01 01:05:20.697  4.582811  0.157078  0.134822   \n",
       "4              1  3931 2014-02-01 01:26:32.542  5.251436  1.293476 -0.653268   \n",
       "\n",
       "variable             x             y            z  \n",
       "0        -24791.216496 -10910.678758  6570.591143  \n",
       "1        -21087.026330 -12384.401306  7840.063865  \n",
       "2        -16579.831302 -13379.440557  8806.129427  \n",
       "3        -11202.732371 -13655.956823  9298.513352  \n",
       "4         -4934.229045 -12796.448989  9015.294227  "
      ]
     },
     "execution_count": 18,
     "metadata": {},
     "output_type": "execute_result"
    }
   ],
   "source": [
    "correct_preds.head()"
   ]
  },
  {
   "cell_type": "code",
   "execution_count": 19,
   "metadata": {},
   "outputs": [
    {
     "data": {
      "text/plain": [
       "0"
      ]
     },
     "execution_count": 19,
     "metadata": {},
     "output_type": "execute_result"
    }
   ],
   "source": [
    "correct_preds.duplicated(['sat_id', 'id']).sum()"
   ]
  },
  {
   "cell_type": "markdown",
   "metadata": {},
   "source": [
    "Save the predictions for track 1. "
   ]
  },
  {
   "cell_type": "code",
   "execution_count": 20,
   "metadata": {},
   "outputs": [
    {
     "name": "stdout",
     "output_type": "stream",
     "text": [
      "id,x,y,z,Vx,Vy,Vz\n",
      "3927,-24791.216496424422,-10910.678757601636,6570.591142685116,2.614250091109964,-1.3038936610685237,1.0870908640772394\n",
      "3928,-21087.026330143886,-12384.40130584989,7840.063864809623,3.2191424954744186,-0.9945388414207204,0.8957800688453397\n",
      "3929,-16579.831302143713,-13379.440557068332,8806.129427121372,3.8777700588719815,-0.539693277312599,0.601826350898311\n",
      "3930,-11202.732370859067,-13655.956823114819,9298.513352163589,4.582811063189779,0.15707843779166794,0.13482178502177014\n"
     ]
    }
   ],
   "source": [
    "correct_preds[['id', 'x', 'y', 'z', 'Vx', 'Vy', 'Vz']].to_csv('results/ar_track_1.csv', index=False)\n",
    "!head -5 results/ar_track_1.csv"
   ]
  },
  {
   "cell_type": "code",
   "execution_count": 21,
   "metadata": {},
   "outputs": [
    {
     "data": {
      "text/html": [
       "<div>\n",
       "<style scoped>\n",
       "    .dataframe tbody tr th:only-of-type {\n",
       "        vertical-align: middle;\n",
       "    }\n",
       "\n",
       "    .dataframe tbody tr th {\n",
       "        vertical-align: top;\n",
       "    }\n",
       "\n",
       "    .dataframe thead th {\n",
       "        text-align: right;\n",
       "    }\n",
       "</style>\n",
       "<table border=\"1\" class=\"dataframe\">\n",
       "  <thead>\n",
       "    <tr style=\"text-align: right;\">\n",
       "      <th>variable</th>\n",
       "      <th>sat_id</th>\n",
       "      <th>id</th>\n",
       "      <th>epoch</th>\n",
       "      <th>Vx</th>\n",
       "      <th>Vy</th>\n",
       "      <th>Vz</th>\n",
       "      <th>x</th>\n",
       "      <th>y</th>\n",
       "      <th>z</th>\n",
       "    </tr>\n",
       "  </thead>\n",
       "  <tbody>\n",
       "    <tr>\n",
       "      <th>0</th>\n",
       "      <td>1</td>\n",
       "      <td>3927</td>\n",
       "      <td>2014-02-01 00:01:45.162</td>\n",
       "      <td>2.912454</td>\n",
       "      <td>-1.158728</td>\n",
       "      <td>0.998135</td>\n",
       "      <td>-24791.216496</td>\n",
       "      <td>-10910.678758</td>\n",
       "      <td>6570.591143</td>\n",
       "    </tr>\n",
       "    <tr>\n",
       "      <th>1</th>\n",
       "      <td>1</td>\n",
       "      <td>3928</td>\n",
       "      <td>2014-02-01 00:22:57.007</td>\n",
       "      <td>3.543824</td>\n",
       "      <td>-0.782359</td>\n",
       "      <td>0.759578</td>\n",
       "      <td>-21087.026330</td>\n",
       "      <td>-12384.401306</td>\n",
       "      <td>7840.063865</td>\n",
       "    </tr>\n",
       "    <tr>\n",
       "      <th>2</th>\n",
       "      <td>1</td>\n",
       "      <td>3929</td>\n",
       "      <td>2014-02-01 00:44:08.852</td>\n",
       "      <td>4.227794</td>\n",
       "      <td>-0.217413</td>\n",
       "      <td>0.387141</td>\n",
       "      <td>-16579.831302</td>\n",
       "      <td>-13379.440557</td>\n",
       "      <td>8806.129427</td>\n",
       "    </tr>\n",
       "    <tr>\n",
       "      <th>3</th>\n",
       "      <td>1</td>\n",
       "      <td>3930</td>\n",
       "      <td>2014-02-01 01:05:20.697</td>\n",
       "      <td>4.928669</td>\n",
       "      <td>0.675796</td>\n",
       "      <td>-0.222684</td>\n",
       "      <td>-11202.732371</td>\n",
       "      <td>-13655.956823</td>\n",
       "      <td>9298.513352</td>\n",
       "    </tr>\n",
       "    <tr>\n",
       "      <th>4</th>\n",
       "      <td>1</td>\n",
       "      <td>3931</td>\n",
       "      <td>2014-02-01 01:26:32.542</td>\n",
       "      <td>5.426464</td>\n",
       "      <td>2.186445</td>\n",
       "      <td>-1.291792</td>\n",
       "      <td>-4934.229045</td>\n",
       "      <td>-12796.448989</td>\n",
       "      <td>9015.294227</td>\n",
       "    </tr>\n",
       "  </tbody>\n",
       "</table>\n",
       "</div>"
      ],
      "text/plain": [
       "variable  sat_id    id                   epoch        Vx        Vy        Vz  \\\n",
       "0              1  3927 2014-02-01 00:01:45.162  2.912454 -1.158728  0.998135   \n",
       "1              1  3928 2014-02-01 00:22:57.007  3.543824 -0.782359  0.759578   \n",
       "2              1  3929 2014-02-01 00:44:08.852  4.227794 -0.217413  0.387141   \n",
       "3              1  3930 2014-02-01 01:05:20.697  4.928669  0.675796 -0.222684   \n",
       "4              1  3931 2014-02-01 01:26:32.542  5.426464  2.186445 -1.291792   \n",
       "\n",
       "variable             x             y            z  \n",
       "0        -24791.216496 -10910.678758  6570.591143  \n",
       "1        -21087.026330 -12384.401306  7840.063865  \n",
       "2        -16579.831302 -13379.440557  8806.129427  \n",
       "3        -11202.732371 -13655.956823  9298.513352  \n",
       "4         -4934.229045 -12796.448989  9015.294227  "
      ]
     },
     "execution_count": 21,
     "metadata": {},
     "output_type": "execute_result"
    }
   ],
   "source": [
    "speed_preds = correct_preds.copy()\n",
    "\n",
    "#Get the time difference between two observations in seconds\n",
    "correct_preds[\"time_delta\"] = correct_preds.groupby('sat_id').epoch.diff().bfill()\n",
    "correct_preds[\"time_delta\"] = correct_preds['time_delta'].apply(lambda t: t.total_seconds())\n",
    "\n",
    "for var in ('x', 'y', 'z'):\n",
    "    speed_preds[f\"V{var}\"] = correct_preds.groupby('sat_id')[var].diff().shift(-1).ffill() / correct_preds.time_delta\n",
    "\n",
    "speed_preds.head()"
   ]
  },
  {
   "cell_type": "code",
   "execution_count": 22,
   "metadata": {},
   "outputs": [
    {
     "name": "stdout",
     "output_type": "stream",
     "text": [
      "id,x,y,z,Vx,Vy,Vz\n",
      "3927,-24791.216496424422,-10910.678757601636,6570.591142685116,2.9124540854274974,-1.1587281062144,0.9981347743824968\n",
      "3928,-21087.026330143886,-12384.40130584989,7840.063864809623,3.5438241515280344,-0.7823588968926579,0.7595780636097552\n",
      "3929,-16579.831302143713,-13379.440557068332,8806.129427121372,4.227794213355123,-0.21741349460546422,0.3871414559495984\n",
      "3930,-11202.732370859067,-13655.956823114819,9298.513352163589,4.928669237259334,0.6757960556273876,-0.22268368038897257\n"
     ]
    }
   ],
   "source": [
    "speed_preds[['id', 'x', 'y', 'z', 'Vx', 'Vy', 'Vz']].to_csv('results/ar_speed_track_1.csv', index=False)\n",
    "!head -5 results/ar_speed_track_1.csv"
   ]
  },
  {
   "cell_type": "markdown",
   "metadata": {},
   "source": [
    "## Track 2"
   ]
  },
  {
   "cell_type": "code",
   "execution_count": 23,
   "metadata": {},
   "outputs": [
    {
     "name": "stderr",
     "output_type": "stream",
     "text": [
      "100%|██████████| 300/300 [00:07<00:00, 42.75it/s]\n"
     ]
    }
   ],
   "source": [
    "import copy\n",
    "\n",
    "models = {}\n",
    "\n",
    "train_sats = data.query('is_train and not is_track_1')  # is_track_2 = not is_track_1 \n",
    "\n",
    "for sat, g in tqdm.tqdm(train_sats.groupby('sat_id'), position=0):\n",
    "    \n",
    "    models[sat] = {}\n",
    "\n",
    "    for col in ('x', 'y', 'z', 'Vx', 'Vy', 'Vz'):\n",
    "\n",
    "        path = g[col].to_numpy()\n",
    "        model.fit(path)\n",
    "        models[sat][col] = copy.deepcopy(model)"
   ]
  },
  {
   "cell_type": "markdown",
   "metadata": {},
   "source": [
    "Save the models and the histories."
   ]
  },
  {
   "cell_type": "code",
   "execution_count": 24,
   "metadata": {},
   "outputs": [
    {
     "name": "stdout",
     "output_type": "stream",
     "text": [
      "4,8M\ttrack_2/ar_models.pkl\n"
     ]
    }
   ],
   "source": [
    "import joblib\n",
    "\n",
    "joblib.dump(models, 'track_2/ar_models.pkl')\n",
    "!du -h track_2/ar_models.pkl"
   ]
  }
 ],
 "metadata": {
  "kernelspec": {
   "display_name": "Python 3",
   "language": "python",
   "name": "python3"
  },
  "language_info": {
   "codemirror_mode": {
    "name": "ipython",
    "version": 3
   },
   "file_extension": ".py",
   "mimetype": "text/x-python",
   "name": "python",
   "nbconvert_exporter": "python",
   "pygments_lexer": "ipython3",
   "version": "3.6.10"
  }
 },
 "nbformat": 4,
 "nbformat_minor": 4
}
