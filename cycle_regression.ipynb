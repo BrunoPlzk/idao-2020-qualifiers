{
 "cells": [
  {
   "cell_type": "markdown",
   "metadata": {},
   "source": [
    "# Solution"
   ]
  },
  {
   "cell_type": "code",
   "execution_count": 1,
   "metadata": {},
   "outputs": [],
   "source": [
    "%matplotlib inline"
   ]
  },
  {
   "cell_type": "markdown",
   "metadata": {},
   "source": [
    "## Preparation"
   ]
  },
  {
   "cell_type": "code",
   "execution_count": 2,
   "metadata": {},
   "outputs": [],
   "source": [
    "import pandas as pd\n",
    "\n",
    "io_params = {\n",
    "    'parse_dates': ['epoch']\n",
    "}\n",
    "\n",
    "train = pd.read_csv('data/train.csv', **io_params)"
   ]
  },
  {
   "cell_type": "markdown",
   "metadata": {},
   "source": [
    "Remove the duplicates."
   ]
  },
  {
   "cell_type": "code",
   "execution_count": 3,
   "metadata": {},
   "outputs": [
    {
     "name": "stderr",
     "output_type": "stream",
     "text": [
      "100%|██████████| 600/600 [00:10<00:00, 56.62it/s]\n"
     ]
    }
   ],
   "source": [
    "import datetime as dt\n",
    "import tqdm\n",
    "\n",
    "dtypes = train.dtypes.to_dict()\n",
    "\n",
    "cols_to_shift = train.columns.difference(['x_sim', 'y_sim', 'z_sim', 'Vx_sim', 'Vy_sim', 'Vz_sim'])\n",
    "\n",
    "train_sats = []\n",
    "\n",
    "for sat_id in tqdm.tqdm(train['sat_id'].unique(), position=0):\n",
    "    \n",
    "    g = train.query('sat_id == @sat_id').copy()\n",
    "    dups = g[g['epoch'].diff() < dt.timedelta(seconds=60)].index\n",
    "    \n",
    "    for i in reversed(dups):\n",
    "        g.loc[i:, cols_to_shift] = g.loc[i:, cols_to_shift].shift(-1)\n",
    "        \n",
    "    g = g.drop(g[g['x'].isnull()].index)\n",
    "    g['percent'] = pd.np.arange(1, len(g) + 1) / len(g)\n",
    "        \n",
    "    train_sats.append(g)\n",
    "    \n",
    "train = pd.concat(train_sats).astype(dtypes)"
   ]
  },
  {
   "cell_type": "markdown",
   "metadata": {},
   "source": [
    "Merge train and test."
   ]
  },
  {
   "cell_type": "code",
   "execution_count": 4,
   "metadata": {},
   "outputs": [],
   "source": [
    "test = pd.read_csv('data/Track 1/test.csv', **io_params)\n",
    "data = pd.concat((train, test), sort=False)\n",
    "data['is_train'] = data['x'].notnull()\n",
    "data = data.sort_values(['sat_id', 'epoch'])\n",
    "data['is_track_1'] = data['sat_id'].isin(data.query('not is_train')['sat_id'].unique())"
   ]
  },
  {
   "cell_type": "markdown",
   "metadata": {},
   "source": [
    "Implement SMAPE."
   ]
  },
  {
   "cell_type": "code",
   "execution_count": 5,
   "metadata": {},
   "outputs": [],
   "source": [
    "import numpy as np\n",
    "\n",
    "def smape(y_true, y_pred): \n",
    "    return np.mean(np.abs((y_pred - y_true) / (np.abs(y_pred) + np.abs(y_true))))"
   ]
  },
  {
   "cell_type": "code",
   "execution_count": 6,
   "metadata": {},
   "outputs": [],
   "source": [
    "data['cycle_index'] = data.groupby('sat_id').apply(lambda g: pd.Series(pd.np.arange(len(g)) % 24)).to_numpy()\n",
    "data['unix'] = data['epoch'].astype(pd.np.int64) // 10 ** 9"
   ]
  },
  {
   "cell_type": "markdown",
   "metadata": {},
   "source": [
    "## Local validation"
   ]
  },
  {
   "cell_type": "code",
   "execution_count": 7,
   "metadata": {},
   "outputs": [
    {
     "name": "stderr",
     "output_type": "stream",
     "text": [
      " 42%|████▏     | 6055/14400 [03:20<04:43, 29.48it/s]/Users/home/opt/anaconda3/lib/python3.7/site-packages/ipykernel_launcher.py:19: RankWarning: Polyfit may be poorly conditioned\n",
      "/Users/home/opt/anaconda3/lib/python3.7/site-packages/ipykernel_launcher.py:19: RankWarning: Polyfit may be poorly conditioned\n",
      "/Users/home/opt/anaconda3/lib/python3.7/site-packages/ipykernel_launcher.py:19: RankWarning: Polyfit may be poorly conditioned\n",
      "/Users/home/opt/anaconda3/lib/python3.7/site-packages/ipykernel_launcher.py:19: RankWarning: Polyfit may be poorly conditioned\n",
      "/Users/home/opt/anaconda3/lib/python3.7/site-packages/ipykernel_launcher.py:19: RankWarning: Polyfit may be poorly conditioned\n",
      "/Users/home/opt/anaconda3/lib/python3.7/site-packages/ipykernel_launcher.py:19: RankWarning: Polyfit may be poorly conditioned\n",
      "/Users/home/opt/anaconda3/lib/python3.7/site-packages/ipykernel_launcher.py:19: RankWarning: Polyfit may be poorly conditioned\n",
      "/Users/home/opt/anaconda3/lib/python3.7/site-packages/ipykernel_launcher.py:19: RankWarning: Polyfit may be poorly conditioned\n",
      "/Users/home/opt/anaconda3/lib/python3.7/site-packages/ipykernel_launcher.py:19: RankWarning: Polyfit may be poorly conditioned\n",
      "/Users/home/opt/anaconda3/lib/python3.7/site-packages/ipykernel_launcher.py:19: RankWarning: Polyfit may be poorly conditioned\n",
      "/Users/home/opt/anaconda3/lib/python3.7/site-packages/ipykernel_launcher.py:19: RankWarning: Polyfit may be poorly conditioned\n",
      "/Users/home/opt/anaconda3/lib/python3.7/site-packages/ipykernel_launcher.py:19: RankWarning: Polyfit may be poorly conditioned\n",
      "/Users/home/opt/anaconda3/lib/python3.7/site-packages/ipykernel_launcher.py:19: RankWarning: Polyfit may be poorly conditioned\n",
      "/Users/home/opt/anaconda3/lib/python3.7/site-packages/ipykernel_launcher.py:19: RankWarning: Polyfit may be poorly conditioned\n",
      "/Users/home/opt/anaconda3/lib/python3.7/site-packages/ipykernel_launcher.py:19: RankWarning: Polyfit may be poorly conditioned\n",
      "/Users/home/opt/anaconda3/lib/python3.7/site-packages/ipykernel_launcher.py:19: RankWarning: Polyfit may be poorly conditioned\n",
      "/Users/home/opt/anaconda3/lib/python3.7/site-packages/ipykernel_launcher.py:19: RankWarning: Polyfit may be poorly conditioned\n",
      "/Users/home/opt/anaconda3/lib/python3.7/site-packages/ipykernel_launcher.py:19: RankWarning: Polyfit may be poorly conditioned\n",
      " 42%|████▏     | 6059/14400 [03:20<04:25, 31.44it/s]/Users/home/opt/anaconda3/lib/python3.7/site-packages/ipykernel_launcher.py:19: RankWarning: Polyfit may be poorly conditioned\n",
      "/Users/home/opt/anaconda3/lib/python3.7/site-packages/ipykernel_launcher.py:19: RankWarning: Polyfit may be poorly conditioned\n",
      "/Users/home/opt/anaconda3/lib/python3.7/site-packages/ipykernel_launcher.py:19: RankWarning: Polyfit may be poorly conditioned\n",
      "/Users/home/opt/anaconda3/lib/python3.7/site-packages/ipykernel_launcher.py:19: RankWarning: Polyfit may be poorly conditioned\n",
      "/Users/home/opt/anaconda3/lib/python3.7/site-packages/ipykernel_launcher.py:19: RankWarning: Polyfit may be poorly conditioned\n",
      "/Users/home/opt/anaconda3/lib/python3.7/site-packages/ipykernel_launcher.py:19: RankWarning: Polyfit may be poorly conditioned\n",
      "/Users/home/opt/anaconda3/lib/python3.7/site-packages/ipykernel_launcher.py:19: RankWarning: Polyfit may be poorly conditioned\n",
      "/Users/home/opt/anaconda3/lib/python3.7/site-packages/ipykernel_launcher.py:19: RankWarning: Polyfit may be poorly conditioned\n",
      "/Users/home/opt/anaconda3/lib/python3.7/site-packages/ipykernel_launcher.py:19: RankWarning: Polyfit may be poorly conditioned\n",
      "/Users/home/opt/anaconda3/lib/python3.7/site-packages/ipykernel_launcher.py:19: RankWarning: Polyfit may be poorly conditioned\n",
      "/Users/home/opt/anaconda3/lib/python3.7/site-packages/ipykernel_launcher.py:19: RankWarning: Polyfit may be poorly conditioned\n",
      "/Users/home/opt/anaconda3/lib/python3.7/site-packages/ipykernel_launcher.py:19: RankWarning: Polyfit may be poorly conditioned\n",
      "/Users/home/opt/anaconda3/lib/python3.7/site-packages/ipykernel_launcher.py:19: RankWarning: Polyfit may be poorly conditioned\n",
      "/Users/home/opt/anaconda3/lib/python3.7/site-packages/ipykernel_launcher.py:19: RankWarning: Polyfit may be poorly conditioned\n",
      "/Users/home/opt/anaconda3/lib/python3.7/site-packages/ipykernel_launcher.py:19: RankWarning: Polyfit may be poorly conditioned\n",
      "/Users/home/opt/anaconda3/lib/python3.7/site-packages/ipykernel_launcher.py:19: RankWarning: Polyfit may be poorly conditioned\n",
      "/Users/home/opt/anaconda3/lib/python3.7/site-packages/ipykernel_launcher.py:19: RankWarning: Polyfit may be poorly conditioned\n",
      "/Users/home/opt/anaconda3/lib/python3.7/site-packages/ipykernel_launcher.py:19: RankWarning: Polyfit may be poorly conditioned\n",
      "/Users/home/opt/anaconda3/lib/python3.7/site-packages/ipykernel_launcher.py:19: RankWarning: Polyfit may be poorly conditioned\n",
      "/Users/home/opt/anaconda3/lib/python3.7/site-packages/ipykernel_launcher.py:19: RankWarning: Polyfit may be poorly conditioned\n",
      "/Users/home/opt/anaconda3/lib/python3.7/site-packages/ipykernel_launcher.py:19: RankWarning: Polyfit may be poorly conditioned\n",
      "/Users/home/opt/anaconda3/lib/python3.7/site-packages/ipykernel_launcher.py:19: RankWarning: Polyfit may be poorly conditioned\n",
      "/Users/home/opt/anaconda3/lib/python3.7/site-packages/ipykernel_launcher.py:19: RankWarning: Polyfit may be poorly conditioned\n",
      "/Users/home/opt/anaconda3/lib/python3.7/site-packages/ipykernel_launcher.py:19: RankWarning: Polyfit may be poorly conditioned\n",
      " 42%|████▏     | 6063/14400 [03:20<04:13, 32.86it/s]/Users/home/opt/anaconda3/lib/python3.7/site-packages/ipykernel_launcher.py:19: RankWarning: Polyfit may be poorly conditioned\n",
      "/Users/home/opt/anaconda3/lib/python3.7/site-packages/ipykernel_launcher.py:19: RankWarning: Polyfit may be poorly conditioned\n",
      "/Users/home/opt/anaconda3/lib/python3.7/site-packages/ipykernel_launcher.py:19: RankWarning: Polyfit may be poorly conditioned\n",
      "/Users/home/opt/anaconda3/lib/python3.7/site-packages/ipykernel_launcher.py:19: RankWarning: Polyfit may be poorly conditioned\n",
      "/Users/home/opt/anaconda3/lib/python3.7/site-packages/ipykernel_launcher.py:19: RankWarning: Polyfit may be poorly conditioned\n",
      "/Users/home/opt/anaconda3/lib/python3.7/site-packages/ipykernel_launcher.py:19: RankWarning: Polyfit may be poorly conditioned\n",
      "/Users/home/opt/anaconda3/lib/python3.7/site-packages/ipykernel_launcher.py:19: RankWarning: Polyfit may be poorly conditioned\n",
      "/Users/home/opt/anaconda3/lib/python3.7/site-packages/ipykernel_launcher.py:19: RankWarning: Polyfit may be poorly conditioned\n",
      "/Users/home/opt/anaconda3/lib/python3.7/site-packages/ipykernel_launcher.py:19: RankWarning: Polyfit may be poorly conditioned\n",
      "/Users/home/opt/anaconda3/lib/python3.7/site-packages/ipykernel_launcher.py:19: RankWarning: Polyfit may be poorly conditioned\n",
      "/Users/home/opt/anaconda3/lib/python3.7/site-packages/ipykernel_launcher.py:19: RankWarning: Polyfit may be poorly conditioned\n",
      "/Users/home/opt/anaconda3/lib/python3.7/site-packages/ipykernel_launcher.py:19: RankWarning: Polyfit may be poorly conditioned\n",
      "/Users/home/opt/anaconda3/lib/python3.7/site-packages/ipykernel_launcher.py:19: RankWarning: Polyfit may be poorly conditioned\n",
      "/Users/home/opt/anaconda3/lib/python3.7/site-packages/ipykernel_launcher.py:19: RankWarning: Polyfit may be poorly conditioned\n",
      "/Users/home/opt/anaconda3/lib/python3.7/site-packages/ipykernel_launcher.py:19: RankWarning: Polyfit may be poorly conditioned\n",
      "/Users/home/opt/anaconda3/lib/python3.7/site-packages/ipykernel_launcher.py:19: RankWarning: Polyfit may be poorly conditioned\n",
      "/Users/home/opt/anaconda3/lib/python3.7/site-packages/ipykernel_launcher.py:19: RankWarning: Polyfit may be poorly conditioned\n",
      "/Users/home/opt/anaconda3/lib/python3.7/site-packages/ipykernel_launcher.py:19: RankWarning: Polyfit may be poorly conditioned\n",
      "/Users/home/opt/anaconda3/lib/python3.7/site-packages/ipykernel_launcher.py:19: RankWarning: Polyfit may be poorly conditioned\n",
      "/Users/home/opt/anaconda3/lib/python3.7/site-packages/ipykernel_launcher.py:19: RankWarning: Polyfit may be poorly conditioned\n",
      "/Users/home/opt/anaconda3/lib/python3.7/site-packages/ipykernel_launcher.py:19: RankWarning: Polyfit may be poorly conditioned\n",
      "/Users/home/opt/anaconda3/lib/python3.7/site-packages/ipykernel_launcher.py:19: RankWarning: Polyfit may be poorly conditioned\n",
      "/Users/home/opt/anaconda3/lib/python3.7/site-packages/ipykernel_launcher.py:19: RankWarning: Polyfit may be poorly conditioned\n",
      "/Users/home/opt/anaconda3/lib/python3.7/site-packages/ipykernel_launcher.py:19: RankWarning: Polyfit may be poorly conditioned\n"
     ]
    },
    {
     "name": "stderr",
     "output_type": "stream",
     "text": [
      " 42%|████▏     | 6067/14400 [03:20<04:10, 33.27it/s]/Users/home/opt/anaconda3/lib/python3.7/site-packages/ipykernel_launcher.py:19: RankWarning: Polyfit may be poorly conditioned\n",
      "/Users/home/opt/anaconda3/lib/python3.7/site-packages/ipykernel_launcher.py:19: RankWarning: Polyfit may be poorly conditioned\n",
      "/Users/home/opt/anaconda3/lib/python3.7/site-packages/ipykernel_launcher.py:19: RankWarning: Polyfit may be poorly conditioned\n",
      "/Users/home/opt/anaconda3/lib/python3.7/site-packages/ipykernel_launcher.py:19: RankWarning: Polyfit may be poorly conditioned\n",
      "/Users/home/opt/anaconda3/lib/python3.7/site-packages/ipykernel_launcher.py:19: RankWarning: Polyfit may be poorly conditioned\n",
      "/Users/home/opt/anaconda3/lib/python3.7/site-packages/ipykernel_launcher.py:19: RankWarning: Polyfit may be poorly conditioned\n",
      "/Users/home/opt/anaconda3/lib/python3.7/site-packages/ipykernel_launcher.py:19: RankWarning: Polyfit may be poorly conditioned\n",
      "/Users/home/opt/anaconda3/lib/python3.7/site-packages/ipykernel_launcher.py:19: RankWarning: Polyfit may be poorly conditioned\n",
      "/Users/home/opt/anaconda3/lib/python3.7/site-packages/ipykernel_launcher.py:19: RankWarning: Polyfit may be poorly conditioned\n",
      "/Users/home/opt/anaconda3/lib/python3.7/site-packages/ipykernel_launcher.py:19: RankWarning: Polyfit may be poorly conditioned\n",
      "/Users/home/opt/anaconda3/lib/python3.7/site-packages/ipykernel_launcher.py:19: RankWarning: Polyfit may be poorly conditioned\n",
      "/Users/home/opt/anaconda3/lib/python3.7/site-packages/ipykernel_launcher.py:19: RankWarning: Polyfit may be poorly conditioned\n",
      "/Users/home/opt/anaconda3/lib/python3.7/site-packages/ipykernel_launcher.py:19: RankWarning: Polyfit may be poorly conditioned\n",
      "/Users/home/opt/anaconda3/lib/python3.7/site-packages/ipykernel_launcher.py:19: RankWarning: Polyfit may be poorly conditioned\n",
      "/Users/home/opt/anaconda3/lib/python3.7/site-packages/ipykernel_launcher.py:19: RankWarning: Polyfit may be poorly conditioned\n",
      "/Users/home/opt/anaconda3/lib/python3.7/site-packages/ipykernel_launcher.py:19: RankWarning: Polyfit may be poorly conditioned\n",
      "/Users/home/opt/anaconda3/lib/python3.7/site-packages/ipykernel_launcher.py:19: RankWarning: Polyfit may be poorly conditioned\n",
      "/Users/home/opt/anaconda3/lib/python3.7/site-packages/ipykernel_launcher.py:19: RankWarning: Polyfit may be poorly conditioned\n",
      "/Users/home/opt/anaconda3/lib/python3.7/site-packages/ipykernel_launcher.py:19: RankWarning: Polyfit may be poorly conditioned\n",
      "/Users/home/opt/anaconda3/lib/python3.7/site-packages/ipykernel_launcher.py:19: RankWarning: Polyfit may be poorly conditioned\n",
      "/Users/home/opt/anaconda3/lib/python3.7/site-packages/ipykernel_launcher.py:19: RankWarning: Polyfit may be poorly conditioned\n",
      "/Users/home/opt/anaconda3/lib/python3.7/site-packages/ipykernel_launcher.py:19: RankWarning: Polyfit may be poorly conditioned\n",
      "/Users/home/opt/anaconda3/lib/python3.7/site-packages/ipykernel_launcher.py:19: RankWarning: Polyfit may be poorly conditioned\n",
      "/Users/home/opt/anaconda3/lib/python3.7/site-packages/ipykernel_launcher.py:19: RankWarning: Polyfit may be poorly conditioned\n",
      " 42%|████▏     | 6071/14400 [03:20<04:02, 34.39it/s]/Users/home/opt/anaconda3/lib/python3.7/site-packages/ipykernel_launcher.py:19: RankWarning: Polyfit may be poorly conditioned\n",
      "/Users/home/opt/anaconda3/lib/python3.7/site-packages/ipykernel_launcher.py:19: RankWarning: Polyfit may be poorly conditioned\n",
      "/Users/home/opt/anaconda3/lib/python3.7/site-packages/ipykernel_launcher.py:19: RankWarning: Polyfit may be poorly conditioned\n",
      "/Users/home/opt/anaconda3/lib/python3.7/site-packages/ipykernel_launcher.py:19: RankWarning: Polyfit may be poorly conditioned\n",
      "/Users/home/opt/anaconda3/lib/python3.7/site-packages/ipykernel_launcher.py:19: RankWarning: Polyfit may be poorly conditioned\n",
      "/Users/home/opt/anaconda3/lib/python3.7/site-packages/ipykernel_launcher.py:19: RankWarning: Polyfit may be poorly conditioned\n",
      " 50%|█████     | 7233/14400 [03:57<02:59, 39.83it/s]/Users/home/opt/anaconda3/lib/python3.7/site-packages/ipykernel_launcher.py:19: RankWarning: Polyfit may be poorly conditioned\n",
      "/Users/home/opt/anaconda3/lib/python3.7/site-packages/ipykernel_launcher.py:19: RankWarning: Polyfit may be poorly conditioned\n",
      "/Users/home/opt/anaconda3/lib/python3.7/site-packages/ipykernel_launcher.py:19: RankWarning: Polyfit may be poorly conditioned\n",
      "/Users/home/opt/anaconda3/lib/python3.7/site-packages/ipykernel_launcher.py:19: RankWarning: Polyfit may be poorly conditioned\n",
      "/Users/home/opt/anaconda3/lib/python3.7/site-packages/ipykernel_launcher.py:19: RankWarning: Polyfit may be poorly conditioned\n",
      "/Users/home/opt/anaconda3/lib/python3.7/site-packages/ipykernel_launcher.py:19: RankWarning: Polyfit may be poorly conditioned\n",
      "/Users/home/opt/anaconda3/lib/python3.7/site-packages/ipykernel_launcher.py:19: RankWarning: Polyfit may be poorly conditioned\n",
      "/Users/home/opt/anaconda3/lib/python3.7/site-packages/ipykernel_launcher.py:19: RankWarning: Polyfit may be poorly conditioned\n",
      "/Users/home/opt/anaconda3/lib/python3.7/site-packages/ipykernel_launcher.py:19: RankWarning: Polyfit may be poorly conditioned\n",
      "/Users/home/opt/anaconda3/lib/python3.7/site-packages/ipykernel_launcher.py:19: RankWarning: Polyfit may be poorly conditioned\n",
      "/Users/home/opt/anaconda3/lib/python3.7/site-packages/ipykernel_launcher.py:19: RankWarning: Polyfit may be poorly conditioned\n",
      "/Users/home/opt/anaconda3/lib/python3.7/site-packages/ipykernel_launcher.py:19: RankWarning: Polyfit may be poorly conditioned\n",
      "/Users/home/opt/anaconda3/lib/python3.7/site-packages/ipykernel_launcher.py:19: RankWarning: Polyfit may be poorly conditioned\n",
      "/Users/home/opt/anaconda3/lib/python3.7/site-packages/ipykernel_launcher.py:19: RankWarning: Polyfit may be poorly conditioned\n",
      "/Users/home/opt/anaconda3/lib/python3.7/site-packages/ipykernel_launcher.py:19: RankWarning: Polyfit may be poorly conditioned\n",
      "/Users/home/opt/anaconda3/lib/python3.7/site-packages/ipykernel_launcher.py:19: RankWarning: Polyfit may be poorly conditioned\n",
      "/Users/home/opt/anaconda3/lib/python3.7/site-packages/ipykernel_launcher.py:19: RankWarning: Polyfit may be poorly conditioned\n",
      "/Users/home/opt/anaconda3/lib/python3.7/site-packages/ipykernel_launcher.py:19: RankWarning: Polyfit may be poorly conditioned\n",
      " 50%|█████     | 7238/14400 [03:57<02:59, 39.90it/s]/Users/home/opt/anaconda3/lib/python3.7/site-packages/ipykernel_launcher.py:19: RankWarning: Polyfit may be poorly conditioned\n",
      "/Users/home/opt/anaconda3/lib/python3.7/site-packages/ipykernel_launcher.py:19: RankWarning: Polyfit may be poorly conditioned\n",
      "/Users/home/opt/anaconda3/lib/python3.7/site-packages/ipykernel_launcher.py:19: RankWarning: Polyfit may be poorly conditioned\n",
      "/Users/home/opt/anaconda3/lib/python3.7/site-packages/ipykernel_launcher.py:19: RankWarning: Polyfit may be poorly conditioned\n",
      "/Users/home/opt/anaconda3/lib/python3.7/site-packages/ipykernel_launcher.py:19: RankWarning: Polyfit may be poorly conditioned\n",
      "/Users/home/opt/anaconda3/lib/python3.7/site-packages/ipykernel_launcher.py:19: RankWarning: Polyfit may be poorly conditioned\n",
      "/Users/home/opt/anaconda3/lib/python3.7/site-packages/ipykernel_launcher.py:19: RankWarning: Polyfit may be poorly conditioned\n",
      "/Users/home/opt/anaconda3/lib/python3.7/site-packages/ipykernel_launcher.py:19: RankWarning: Polyfit may be poorly conditioned\n",
      "/Users/home/opt/anaconda3/lib/python3.7/site-packages/ipykernel_launcher.py:19: RankWarning: Polyfit may be poorly conditioned\n",
      "/Users/home/opt/anaconda3/lib/python3.7/site-packages/ipykernel_launcher.py:19: RankWarning: Polyfit may be poorly conditioned\n",
      "/Users/home/opt/anaconda3/lib/python3.7/site-packages/ipykernel_launcher.py:19: RankWarning: Polyfit may be poorly conditioned\n",
      "/Users/home/opt/anaconda3/lib/python3.7/site-packages/ipykernel_launcher.py:19: RankWarning: Polyfit may be poorly conditioned\n",
      "/Users/home/opt/anaconda3/lib/python3.7/site-packages/ipykernel_launcher.py:19: RankWarning: Polyfit may be poorly conditioned\n",
      "/Users/home/opt/anaconda3/lib/python3.7/site-packages/ipykernel_launcher.py:19: RankWarning: Polyfit may be poorly conditioned\n",
      "/Users/home/opt/anaconda3/lib/python3.7/site-packages/ipykernel_launcher.py:19: RankWarning: Polyfit may be poorly conditioned\n",
      "/Users/home/opt/anaconda3/lib/python3.7/site-packages/ipykernel_launcher.py:19: RankWarning: Polyfit may be poorly conditioned\n",
      "/Users/home/opt/anaconda3/lib/python3.7/site-packages/ipykernel_launcher.py:19: RankWarning: Polyfit may be poorly conditioned\n",
      "/Users/home/opt/anaconda3/lib/python3.7/site-packages/ipykernel_launcher.py:19: RankWarning: Polyfit may be poorly conditioned\n",
      "/Users/home/opt/anaconda3/lib/python3.7/site-packages/ipykernel_launcher.py:19: RankWarning: Polyfit may be poorly conditioned\n"
     ]
    },
    {
     "name": "stderr",
     "output_type": "stream",
     "text": [
      "/Users/home/opt/anaconda3/lib/python3.7/site-packages/ipykernel_launcher.py:19: RankWarning: Polyfit may be poorly conditioned\n",
      "/Users/home/opt/anaconda3/lib/python3.7/site-packages/ipykernel_launcher.py:19: RankWarning: Polyfit may be poorly conditioned\n",
      "/Users/home/opt/anaconda3/lib/python3.7/site-packages/ipykernel_launcher.py:19: RankWarning: Polyfit may be poorly conditioned\n",
      "/Users/home/opt/anaconda3/lib/python3.7/site-packages/ipykernel_launcher.py:19: RankWarning: Polyfit may be poorly conditioned\n",
      "/Users/home/opt/anaconda3/lib/python3.7/site-packages/ipykernel_launcher.py:19: RankWarning: Polyfit may be poorly conditioned\n",
      " 50%|█████     | 7242/14400 [03:57<02:59, 39.81it/s]/Users/home/opt/anaconda3/lib/python3.7/site-packages/ipykernel_launcher.py:19: RankWarning: Polyfit may be poorly conditioned\n",
      "/Users/home/opt/anaconda3/lib/python3.7/site-packages/ipykernel_launcher.py:19: RankWarning: Polyfit may be poorly conditioned\n",
      "/Users/home/opt/anaconda3/lib/python3.7/site-packages/ipykernel_launcher.py:19: RankWarning: Polyfit may be poorly conditioned\n",
      "/Users/home/opt/anaconda3/lib/python3.7/site-packages/ipykernel_launcher.py:19: RankWarning: Polyfit may be poorly conditioned\n",
      "/Users/home/opt/anaconda3/lib/python3.7/site-packages/ipykernel_launcher.py:19: RankWarning: Polyfit may be poorly conditioned\n",
      "/Users/home/opt/anaconda3/lib/python3.7/site-packages/ipykernel_launcher.py:19: RankWarning: Polyfit may be poorly conditioned\n",
      "/Users/home/opt/anaconda3/lib/python3.7/site-packages/ipykernel_launcher.py:19: RankWarning: Polyfit may be poorly conditioned\n",
      "/Users/home/opt/anaconda3/lib/python3.7/site-packages/ipykernel_launcher.py:19: RankWarning: Polyfit may be poorly conditioned\n",
      "/Users/home/opt/anaconda3/lib/python3.7/site-packages/ipykernel_launcher.py:19: RankWarning: Polyfit may be poorly conditioned\n",
      "/Users/home/opt/anaconda3/lib/python3.7/site-packages/ipykernel_launcher.py:19: RankWarning: Polyfit may be poorly conditioned\n",
      "/Users/home/opt/anaconda3/lib/python3.7/site-packages/ipykernel_launcher.py:19: RankWarning: Polyfit may be poorly conditioned\n",
      "/Users/home/opt/anaconda3/lib/python3.7/site-packages/ipykernel_launcher.py:19: RankWarning: Polyfit may be poorly conditioned\n",
      "/Users/home/opt/anaconda3/lib/python3.7/site-packages/ipykernel_launcher.py:19: RankWarning: Polyfit may be poorly conditioned\n",
      "/Users/home/opt/anaconda3/lib/python3.7/site-packages/ipykernel_launcher.py:19: RankWarning: Polyfit may be poorly conditioned\n",
      "/Users/home/opt/anaconda3/lib/python3.7/site-packages/ipykernel_launcher.py:19: RankWarning: Polyfit may be poorly conditioned\n",
      "/Users/home/opt/anaconda3/lib/python3.7/site-packages/ipykernel_launcher.py:19: RankWarning: Polyfit may be poorly conditioned\n",
      "/Users/home/opt/anaconda3/lib/python3.7/site-packages/ipykernel_launcher.py:19: RankWarning: Polyfit may be poorly conditioned\n",
      "/Users/home/opt/anaconda3/lib/python3.7/site-packages/ipykernel_launcher.py:19: RankWarning: Polyfit may be poorly conditioned\n",
      "/Users/home/opt/anaconda3/lib/python3.7/site-packages/ipykernel_launcher.py:19: RankWarning: Polyfit may be poorly conditioned\n",
      "/Users/home/opt/anaconda3/lib/python3.7/site-packages/ipykernel_launcher.py:19: RankWarning: Polyfit may be poorly conditioned\n",
      "/Users/home/opt/anaconda3/lib/python3.7/site-packages/ipykernel_launcher.py:19: RankWarning: Polyfit may be poorly conditioned\n",
      "/Users/home/opt/anaconda3/lib/python3.7/site-packages/ipykernel_launcher.py:19: RankWarning: Polyfit may be poorly conditioned\n",
      "/Users/home/opt/anaconda3/lib/python3.7/site-packages/ipykernel_launcher.py:19: RankWarning: Polyfit may be poorly conditioned\n",
      "/Users/home/opt/anaconda3/lib/python3.7/site-packages/ipykernel_launcher.py:19: RankWarning: Polyfit may be poorly conditioned\n",
      " 50%|█████     | 7246/14400 [03:57<03:05, 38.67it/s]/Users/home/opt/anaconda3/lib/python3.7/site-packages/ipykernel_launcher.py:19: RankWarning: Polyfit may be poorly conditioned\n",
      "/Users/home/opt/anaconda3/lib/python3.7/site-packages/ipykernel_launcher.py:19: RankWarning: Polyfit may be poorly conditioned\n",
      "/Users/home/opt/anaconda3/lib/python3.7/site-packages/ipykernel_launcher.py:19: RankWarning: Polyfit may be poorly conditioned\n",
      "/Users/home/opt/anaconda3/lib/python3.7/site-packages/ipykernel_launcher.py:19: RankWarning: Polyfit may be poorly conditioned\n",
      "/Users/home/opt/anaconda3/lib/python3.7/site-packages/ipykernel_launcher.py:19: RankWarning: Polyfit may be poorly conditioned\n",
      "/Users/home/opt/anaconda3/lib/python3.7/site-packages/ipykernel_launcher.py:19: RankWarning: Polyfit may be poorly conditioned\n",
      "/Users/home/opt/anaconda3/lib/python3.7/site-packages/ipykernel_launcher.py:19: RankWarning: Polyfit may be poorly conditioned\n",
      "/Users/home/opt/anaconda3/lib/python3.7/site-packages/ipykernel_launcher.py:19: RankWarning: Polyfit may be poorly conditioned\n",
      "/Users/home/opt/anaconda3/lib/python3.7/site-packages/ipykernel_launcher.py:19: RankWarning: Polyfit may be poorly conditioned\n",
      "/Users/home/opt/anaconda3/lib/python3.7/site-packages/ipykernel_launcher.py:19: RankWarning: Polyfit may be poorly conditioned\n",
      "/Users/home/opt/anaconda3/lib/python3.7/site-packages/ipykernel_launcher.py:19: RankWarning: Polyfit may be poorly conditioned\n",
      "/Users/home/opt/anaconda3/lib/python3.7/site-packages/ipykernel_launcher.py:19: RankWarning: Polyfit may be poorly conditioned\n",
      " 59%|█████▉    | 8519/14400 [04:36<03:40, 26.61it/s]/Users/home/opt/anaconda3/lib/python3.7/site-packages/ipykernel_launcher.py:19: RankWarning: Polyfit may be poorly conditioned\n",
      "/Users/home/opt/anaconda3/lib/python3.7/site-packages/ipykernel_launcher.py:19: RankWarning: Polyfit may be poorly conditioned\n",
      "/Users/home/opt/anaconda3/lib/python3.7/site-packages/ipykernel_launcher.py:19: RankWarning: Polyfit may be poorly conditioned\n",
      "/Users/home/opt/anaconda3/lib/python3.7/site-packages/ipykernel_launcher.py:19: RankWarning: Polyfit may be poorly conditioned\n",
      "/Users/home/opt/anaconda3/lib/python3.7/site-packages/ipykernel_launcher.py:19: RankWarning: Polyfit may be poorly conditioned\n",
      "/Users/home/opt/anaconda3/lib/python3.7/site-packages/ipykernel_launcher.py:19: RankWarning: Polyfit may be poorly conditioned\n",
      " 67%|██████▋   | 9667/14400 [05:14<01:56, 40.77it/s]/Users/home/opt/anaconda3/lib/python3.7/site-packages/ipykernel_launcher.py:19: RankWarning: Polyfit may be poorly conditioned\n",
      "/Users/home/opt/anaconda3/lib/python3.7/site-packages/ipykernel_launcher.py:19: RankWarning: Polyfit may be poorly conditioned\n",
      "/Users/home/opt/anaconda3/lib/python3.7/site-packages/ipykernel_launcher.py:19: RankWarning: Polyfit may be poorly conditioned\n",
      "/Users/home/opt/anaconda3/lib/python3.7/site-packages/ipykernel_launcher.py:19: RankWarning: Polyfit may be poorly conditioned\n",
      "/Users/home/opt/anaconda3/lib/python3.7/site-packages/ipykernel_launcher.py:19: RankWarning: Polyfit may be poorly conditioned\n",
      "/Users/home/opt/anaconda3/lib/python3.7/site-packages/ipykernel_launcher.py:19: RankWarning: Polyfit may be poorly conditioned\n",
      " 74%|███████▎  | 10605/14400 [05:48<02:08, 29.45it/s]/Users/home/opt/anaconda3/lib/python3.7/site-packages/ipykernel_launcher.py:19: RankWarning: Polyfit may be poorly conditioned\n",
      "/Users/home/opt/anaconda3/lib/python3.7/site-packages/ipykernel_launcher.py:19: RankWarning: Polyfit may be poorly conditioned\n",
      "/Users/home/opt/anaconda3/lib/python3.7/site-packages/ipykernel_launcher.py:19: RankWarning: Polyfit may be poorly conditioned\n",
      "/Users/home/opt/anaconda3/lib/python3.7/site-packages/ipykernel_launcher.py:19: RankWarning: Polyfit may be poorly conditioned\n",
      "/Users/home/opt/anaconda3/lib/python3.7/site-packages/ipykernel_launcher.py:19: RankWarning: Polyfit may be poorly conditioned\n",
      "/Users/home/opt/anaconda3/lib/python3.7/site-packages/ipykernel_launcher.py:19: RankWarning: Polyfit may be poorly conditioned\n",
      " 81%|████████▏ | 11701/14400 [06:25<01:22, 32.65it/s]/Users/home/opt/anaconda3/lib/python3.7/site-packages/ipykernel_launcher.py:19: RankWarning: Polyfit may be poorly conditioned\n",
      "/Users/home/opt/anaconda3/lib/python3.7/site-packages/ipykernel_launcher.py:19: RankWarning: Polyfit may be poorly conditioned\n",
      "/Users/home/opt/anaconda3/lib/python3.7/site-packages/ipykernel_launcher.py:19: RankWarning: Polyfit may be poorly conditioned\n",
      "/Users/home/opt/anaconda3/lib/python3.7/site-packages/ipykernel_launcher.py:19: RankWarning: Polyfit may be poorly conditioned\n",
      "/Users/home/opt/anaconda3/lib/python3.7/site-packages/ipykernel_launcher.py:19: RankWarning: Polyfit may be poorly conditioned\n",
      "/Users/home/opt/anaconda3/lib/python3.7/site-packages/ipykernel_launcher.py:19: RankWarning: Polyfit may be poorly conditioned\n",
      "/Users/home/opt/anaconda3/lib/python3.7/site-packages/ipykernel_launcher.py:19: RankWarning: Polyfit may be poorly conditioned\n",
      "/Users/home/opt/anaconda3/lib/python3.7/site-packages/ipykernel_launcher.py:19: RankWarning: Polyfit may be poorly conditioned\n",
      "/Users/home/opt/anaconda3/lib/python3.7/site-packages/ipykernel_launcher.py:19: RankWarning: Polyfit may be poorly conditioned\n",
      "/Users/home/opt/anaconda3/lib/python3.7/site-packages/ipykernel_launcher.py:19: RankWarning: Polyfit may be poorly conditioned\n",
      "/Users/home/opt/anaconda3/lib/python3.7/site-packages/ipykernel_launcher.py:19: RankWarning: Polyfit may be poorly conditioned\n",
      "/Users/home/opt/anaconda3/lib/python3.7/site-packages/ipykernel_launcher.py:19: RankWarning: Polyfit may be poorly conditioned\n"
     ]
    },
    {
     "name": "stderr",
     "output_type": "stream",
     "text": [
      " 81%|████████▏ | 11705/14400 [06:25<01:28, 30.55it/s]/Users/home/opt/anaconda3/lib/python3.7/site-packages/ipykernel_launcher.py:19: RankWarning: Polyfit may be poorly conditioned\n",
      "/Users/home/opt/anaconda3/lib/python3.7/site-packages/ipykernel_launcher.py:19: RankWarning: Polyfit may be poorly conditioned\n",
      "/Users/home/opt/anaconda3/lib/python3.7/site-packages/ipykernel_launcher.py:19: RankWarning: Polyfit may be poorly conditioned\n",
      "/Users/home/opt/anaconda3/lib/python3.7/site-packages/ipykernel_launcher.py:19: RankWarning: Polyfit may be poorly conditioned\n",
      "/Users/home/opt/anaconda3/lib/python3.7/site-packages/ipykernel_launcher.py:19: RankWarning: Polyfit may be poorly conditioned\n",
      "/Users/home/opt/anaconda3/lib/python3.7/site-packages/ipykernel_launcher.py:19: RankWarning: Polyfit may be poorly conditioned\n",
      "/Users/home/opt/anaconda3/lib/python3.7/site-packages/ipykernel_launcher.py:19: RankWarning: Polyfit may be poorly conditioned\n",
      "/Users/home/opt/anaconda3/lib/python3.7/site-packages/ipykernel_launcher.py:19: RankWarning: Polyfit may be poorly conditioned\n",
      "/Users/home/opt/anaconda3/lib/python3.7/site-packages/ipykernel_launcher.py:19: RankWarning: Polyfit may be poorly conditioned\n",
      "/Users/home/opt/anaconda3/lib/python3.7/site-packages/ipykernel_launcher.py:19: RankWarning: Polyfit may be poorly conditioned\n",
      "/Users/home/opt/anaconda3/lib/python3.7/site-packages/ipykernel_launcher.py:19: RankWarning: Polyfit may be poorly conditioned\n",
      "/Users/home/opt/anaconda3/lib/python3.7/site-packages/ipykernel_launcher.py:19: RankWarning: Polyfit may be poorly conditioned\n",
      "/Users/home/opt/anaconda3/lib/python3.7/site-packages/ipykernel_launcher.py:19: RankWarning: Polyfit may be poorly conditioned\n",
      "/Users/home/opt/anaconda3/lib/python3.7/site-packages/ipykernel_launcher.py:19: RankWarning: Polyfit may be poorly conditioned\n",
      "/Users/home/opt/anaconda3/lib/python3.7/site-packages/ipykernel_launcher.py:19: RankWarning: Polyfit may be poorly conditioned\n",
      "/Users/home/opt/anaconda3/lib/python3.7/site-packages/ipykernel_launcher.py:19: RankWarning: Polyfit may be poorly conditioned\n",
      "/Users/home/opt/anaconda3/lib/python3.7/site-packages/ipykernel_launcher.py:19: RankWarning: Polyfit may be poorly conditioned\n",
      "/Users/home/opt/anaconda3/lib/python3.7/site-packages/ipykernel_launcher.py:19: RankWarning: Polyfit may be poorly conditioned\n",
      "/Users/home/opt/anaconda3/lib/python3.7/site-packages/ipykernel_launcher.py:19: RankWarning: Polyfit may be poorly conditioned\n",
      "/Users/home/opt/anaconda3/lib/python3.7/site-packages/ipykernel_launcher.py:19: RankWarning: Polyfit may be poorly conditioned\n",
      "/Users/home/opt/anaconda3/lib/python3.7/site-packages/ipykernel_launcher.py:19: RankWarning: Polyfit may be poorly conditioned\n",
      "/Users/home/opt/anaconda3/lib/python3.7/site-packages/ipykernel_launcher.py:19: RankWarning: Polyfit may be poorly conditioned\n",
      "/Users/home/opt/anaconda3/lib/python3.7/site-packages/ipykernel_launcher.py:19: RankWarning: Polyfit may be poorly conditioned\n",
      "/Users/home/opt/anaconda3/lib/python3.7/site-packages/ipykernel_launcher.py:19: RankWarning: Polyfit may be poorly conditioned\n",
      " 81%|████████▏ | 11709/14400 [06:25<01:33, 28.77it/s]/Users/home/opt/anaconda3/lib/python3.7/site-packages/ipykernel_launcher.py:19: RankWarning: Polyfit may be poorly conditioned\n",
      "/Users/home/opt/anaconda3/lib/python3.7/site-packages/ipykernel_launcher.py:19: RankWarning: Polyfit may be poorly conditioned\n",
      "/Users/home/opt/anaconda3/lib/python3.7/site-packages/ipykernel_launcher.py:19: RankWarning: Polyfit may be poorly conditioned\n",
      "/Users/home/opt/anaconda3/lib/python3.7/site-packages/ipykernel_launcher.py:19: RankWarning: Polyfit may be poorly conditioned\n",
      "/Users/home/opt/anaconda3/lib/python3.7/site-packages/ipykernel_launcher.py:19: RankWarning: Polyfit may be poorly conditioned\n",
      "/Users/home/opt/anaconda3/lib/python3.7/site-packages/ipykernel_launcher.py:19: RankWarning: Polyfit may be poorly conditioned\n",
      "/Users/home/opt/anaconda3/lib/python3.7/site-packages/ipykernel_launcher.py:19: RankWarning: Polyfit may be poorly conditioned\n",
      "/Users/home/opt/anaconda3/lib/python3.7/site-packages/ipykernel_launcher.py:19: RankWarning: Polyfit may be poorly conditioned\n",
      "/Users/home/opt/anaconda3/lib/python3.7/site-packages/ipykernel_launcher.py:19: RankWarning: Polyfit may be poorly conditioned\n",
      "/Users/home/opt/anaconda3/lib/python3.7/site-packages/ipykernel_launcher.py:19: RankWarning: Polyfit may be poorly conditioned\n",
      "/Users/home/opt/anaconda3/lib/python3.7/site-packages/ipykernel_launcher.py:19: RankWarning: Polyfit may be poorly conditioned\n",
      "/Users/home/opt/anaconda3/lib/python3.7/site-packages/ipykernel_launcher.py:19: RankWarning: Polyfit may be poorly conditioned\n",
      "/Users/home/opt/anaconda3/lib/python3.7/site-packages/ipykernel_launcher.py:19: RankWarning: Polyfit may be poorly conditioned\n",
      "/Users/home/opt/anaconda3/lib/python3.7/site-packages/ipykernel_launcher.py:19: RankWarning: Polyfit may be poorly conditioned\n",
      "/Users/home/opt/anaconda3/lib/python3.7/site-packages/ipykernel_launcher.py:19: RankWarning: Polyfit may be poorly conditioned\n",
      "/Users/home/opt/anaconda3/lib/python3.7/site-packages/ipykernel_launcher.py:19: RankWarning: Polyfit may be poorly conditioned\n",
      "/Users/home/opt/anaconda3/lib/python3.7/site-packages/ipykernel_launcher.py:19: RankWarning: Polyfit may be poorly conditioned\n",
      "/Users/home/opt/anaconda3/lib/python3.7/site-packages/ipykernel_launcher.py:19: RankWarning: Polyfit may be poorly conditioned\n",
      " 86%|████████▌ | 12376/14400 [06:57<01:09, 28.96it/s]/Users/home/opt/anaconda3/lib/python3.7/site-packages/ipykernel_launcher.py:19: RankWarning: Polyfit may be poorly conditioned\n",
      "/Users/home/opt/anaconda3/lib/python3.7/site-packages/ipykernel_launcher.py:19: RankWarning: Polyfit may be poorly conditioned\n",
      "/Users/home/opt/anaconda3/lib/python3.7/site-packages/ipykernel_launcher.py:19: RankWarning: Polyfit may be poorly conditioned\n",
      "/Users/home/opt/anaconda3/lib/python3.7/site-packages/ipykernel_launcher.py:19: RankWarning: Polyfit may be poorly conditioned\n",
      "/Users/home/opt/anaconda3/lib/python3.7/site-packages/ipykernel_launcher.py:19: RankWarning: Polyfit may be poorly conditioned\n",
      "/Users/home/opt/anaconda3/lib/python3.7/site-packages/ipykernel_launcher.py:19: RankWarning: Polyfit may be poorly conditioned\n",
      " 86%|████████▌ | 12379/14400 [06:57<01:09, 29.22it/s]/Users/home/opt/anaconda3/lib/python3.7/site-packages/ipykernel_launcher.py:19: RankWarning: Polyfit may be poorly conditioned\n",
      "/Users/home/opt/anaconda3/lib/python3.7/site-packages/ipykernel_launcher.py:19: RankWarning: Polyfit may be poorly conditioned\n",
      "/Users/home/opt/anaconda3/lib/python3.7/site-packages/ipykernel_launcher.py:19: RankWarning: Polyfit may be poorly conditioned\n",
      "/Users/home/opt/anaconda3/lib/python3.7/site-packages/ipykernel_launcher.py:19: RankWarning: Polyfit may be poorly conditioned\n",
      "/Users/home/opt/anaconda3/lib/python3.7/site-packages/ipykernel_launcher.py:19: RankWarning: Polyfit may be poorly conditioned\n",
      "/Users/home/opt/anaconda3/lib/python3.7/site-packages/ipykernel_launcher.py:19: RankWarning: Polyfit may be poorly conditioned\n",
      "/Users/home/opt/anaconda3/lib/python3.7/site-packages/ipykernel_launcher.py:19: RankWarning: Polyfit may be poorly conditioned\n",
      "/Users/home/opt/anaconda3/lib/python3.7/site-packages/ipykernel_launcher.py:19: RankWarning: Polyfit may be poorly conditioned\n",
      "/Users/home/opt/anaconda3/lib/python3.7/site-packages/ipykernel_launcher.py:19: RankWarning: Polyfit may be poorly conditioned\n",
      "/Users/home/opt/anaconda3/lib/python3.7/site-packages/ipykernel_launcher.py:19: RankWarning: Polyfit may be poorly conditioned\n",
      "/Users/home/opt/anaconda3/lib/python3.7/site-packages/ipykernel_launcher.py:19: RankWarning: Polyfit may be poorly conditioned\n",
      "/Users/home/opt/anaconda3/lib/python3.7/site-packages/ipykernel_launcher.py:19: RankWarning: Polyfit may be poorly conditioned\n",
      "/Users/home/opt/anaconda3/lib/python3.7/site-packages/ipykernel_launcher.py:19: RankWarning: Polyfit may be poorly conditioned\n",
      "/Users/home/opt/anaconda3/lib/python3.7/site-packages/ipykernel_launcher.py:19: RankWarning: Polyfit may be poorly conditioned\n",
      "/Users/home/opt/anaconda3/lib/python3.7/site-packages/ipykernel_launcher.py:19: RankWarning: Polyfit may be poorly conditioned\n",
      "/Users/home/opt/anaconda3/lib/python3.7/site-packages/ipykernel_launcher.py:19: RankWarning: Polyfit may be poorly conditioned\n",
      "/Users/home/opt/anaconda3/lib/python3.7/site-packages/ipykernel_launcher.py:19: RankWarning: Polyfit may be poorly conditioned\n",
      "/Users/home/opt/anaconda3/lib/python3.7/site-packages/ipykernel_launcher.py:19: RankWarning: Polyfit may be poorly conditioned\n"
     ]
    },
    {
     "name": "stderr",
     "output_type": "stream",
     "text": [
      " 86%|████████▌ | 12382/14400 [06:58<01:17, 25.93it/s]/Users/home/opt/anaconda3/lib/python3.7/site-packages/ipykernel_launcher.py:19: RankWarning: Polyfit may be poorly conditioned\n",
      "/Users/home/opt/anaconda3/lib/python3.7/site-packages/ipykernel_launcher.py:19: RankWarning: Polyfit may be poorly conditioned\n",
      "/Users/home/opt/anaconda3/lib/python3.7/site-packages/ipykernel_launcher.py:19: RankWarning: Polyfit may be poorly conditioned\n",
      "/Users/home/opt/anaconda3/lib/python3.7/site-packages/ipykernel_launcher.py:19: RankWarning: Polyfit may be poorly conditioned\n",
      "/Users/home/opt/anaconda3/lib/python3.7/site-packages/ipykernel_launcher.py:19: RankWarning: Polyfit may be poorly conditioned\n",
      "/Users/home/opt/anaconda3/lib/python3.7/site-packages/ipykernel_launcher.py:19: RankWarning: Polyfit may be poorly conditioned\n",
      "/Users/home/opt/anaconda3/lib/python3.7/site-packages/ipykernel_launcher.py:19: RankWarning: Polyfit may be poorly conditioned\n",
      "/Users/home/opt/anaconda3/lib/python3.7/site-packages/ipykernel_launcher.py:19: RankWarning: Polyfit may be poorly conditioned\n",
      "/Users/home/opt/anaconda3/lib/python3.7/site-packages/ipykernel_launcher.py:19: RankWarning: Polyfit may be poorly conditioned\n",
      "/Users/home/opt/anaconda3/lib/python3.7/site-packages/ipykernel_launcher.py:19: RankWarning: Polyfit may be poorly conditioned\n",
      "/Users/home/opt/anaconda3/lib/python3.7/site-packages/ipykernel_launcher.py:19: RankWarning: Polyfit may be poorly conditioned\n",
      "/Users/home/opt/anaconda3/lib/python3.7/site-packages/ipykernel_launcher.py:19: RankWarning: Polyfit may be poorly conditioned\n",
      " 87%|████████▋ | 12598/14400 [07:05<00:55, 32.59it/s]/Users/home/opt/anaconda3/lib/python3.7/site-packages/ipykernel_launcher.py:19: RankWarning: Polyfit may be poorly conditioned\n",
      "/Users/home/opt/anaconda3/lib/python3.7/site-packages/ipykernel_launcher.py:19: RankWarning: Polyfit may be poorly conditioned\n",
      "/Users/home/opt/anaconda3/lib/python3.7/site-packages/ipykernel_launcher.py:19: RankWarning: Polyfit may be poorly conditioned\n",
      "/Users/home/opt/anaconda3/lib/python3.7/site-packages/ipykernel_launcher.py:19: RankWarning: Polyfit may be poorly conditioned\n",
      "/Users/home/opt/anaconda3/lib/python3.7/site-packages/ipykernel_launcher.py:19: RankWarning: Polyfit may be poorly conditioned\n",
      "/Users/home/opt/anaconda3/lib/python3.7/site-packages/ipykernel_launcher.py:19: RankWarning: Polyfit may be poorly conditioned\n",
      "/Users/home/opt/anaconda3/lib/python3.7/site-packages/ipykernel_launcher.py:19: RankWarning: Polyfit may be poorly conditioned\n",
      "/Users/home/opt/anaconda3/lib/python3.7/site-packages/ipykernel_launcher.py:19: RankWarning: Polyfit may be poorly conditioned\n",
      "/Users/home/opt/anaconda3/lib/python3.7/site-packages/ipykernel_launcher.py:19: RankWarning: Polyfit may be poorly conditioned\n",
      "/Users/home/opt/anaconda3/lib/python3.7/site-packages/ipykernel_launcher.py:19: RankWarning: Polyfit may be poorly conditioned\n",
      "/Users/home/opt/anaconda3/lib/python3.7/site-packages/ipykernel_launcher.py:19: RankWarning: Polyfit may be poorly conditioned\n",
      "/Users/home/opt/anaconda3/lib/python3.7/site-packages/ipykernel_launcher.py:19: RankWarning: Polyfit may be poorly conditioned\n",
      "100%|██████████| 14400/14400 [08:04<00:00, 29.69it/s]\n"
     ]
    }
   ],
   "source": [
    "from numpy import polynomial\n",
    "import tqdm\n",
    "import functools\n",
    "\n",
    "preds = []\n",
    "\n",
    "train = data.query('is_train')\n",
    "\n",
    "for (sat, cycle_index), g in tqdm.tqdm(train.assign(is_fit=train.eval('percent < .6')).groupby(['sat_id', 'cycle_index']), position=0):\n",
    "\n",
    "    fit = g.query('is_fit')\n",
    "    val = g.query('not is_fit')\n",
    "\n",
    "    for var in ('x', 'y', 'z', 'Vx', 'Vy', 'Vz'):\n",
    "        \n",
    "        poly = pd.np.polyfit(\n",
    "            x = fit['unix'][-20:], \n",
    "            y = fit[var][-20:], \n",
    "            deg = 2\n",
    "        )\n",
    "        \n",
    "        pred = (\n",
    "            functools.reduce(np.add, (coeff * val['unix'] ** i  for i, coeff in enumerate(reversed(poly)))) \n",
    "            \n",
    "        )\n",
    "\n",
    "        preds.append(pd.DataFrame({\n",
    "            'sat_id': sat,\n",
    "            'epoch': val['epoch'],\n",
    "            'y_true': val[var],\n",
    "            'y_pred': pred,\n",
    "            'variable': var\n",
    "        }))\n",
    "        \n",
    "preds = pd.concat(preds)"
   ]
  },
  {
   "cell_type": "code",
   "execution_count": 8,
   "metadata": {},
   "outputs": [],
   "source": [
    "preds = preds.sort_values(['sat_id', 'epoch'])"
   ]
  },
  {
   "cell_type": "code",
   "execution_count": 9,
   "metadata": {},
   "outputs": [
    {
     "data": {
      "text/plain": [
       "97.06443405110346"
      ]
     },
     "execution_count": 9,
     "metadata": {},
     "output_type": "execute_result"
    }
   ],
   "source": [
    "smapes = preds.groupby(['sat_id', 'variable']).apply(lambda g: smape(g['y_true'], g['y_pred']))\n",
    "mean_smape = smapes.mean()\n",
    "100 * (1 - mean_smape)"
   ]
  },
  {
   "cell_type": "markdown",
   "metadata": {},
   "source": [
    "Save the validation SMAPEs for further comparison and blending with other methods."
   ]
  },
  {
   "cell_type": "code",
   "execution_count": 10,
   "metadata": {},
   "outputs": [
    {
     "name": "stdout",
     "output_type": "stream",
     "text": [
      "sat_id,variable,smape\r\n",
      "0,Vx,0.0004091898686914077\r\n",
      "0,Vy,0.002835100808407995\r\n",
      "0,Vz,0.0016378676925001023\r\n",
      "0,x,0.0016415028743984842\r\n",
      "0,y,0.0016552806226684978\r\n",
      "0,z,0.001892994154613214\r\n",
      "1,Vx,0.0029829622442696557\r\n",
      "1,Vy,0.002032868901332287\r\n",
      "1,Vz,0.002135296465048415\r\n"
     ]
    }
   ],
   "source": [
    "smapes.rename('smape').to_csv('results/cr_val_scores.csv', header=True)\n",
    "!head results/cr_val_scores.csv"
   ]
  },
  {
   "cell_type": "markdown",
   "metadata": {},
   "source": [
    "## Track 1"
   ]
  },
  {
   "cell_type": "markdown",
   "metadata": {},
   "source": [
    "Make predictions for the test set."
   ]
  },
  {
   "cell_type": "code",
   "execution_count": null,
   "metadata": {},
   "outputs": [
    {
     "name": "stderr",
     "output_type": "stream",
     "text": [
      "100%|██████████| 7200/7200 [03:10<00:00, 37.71it/s]\n"
     ]
    }
   ],
   "source": [
    "from numpy import polynomial\n",
    "import tqdm\n",
    "import functools\n",
    "\n",
    "preds = []\n",
    "\n",
    "data_track_1 = data.query('is_track_1')\n",
    "\n",
    "for (sat, cycle_index), g in tqdm.tqdm(data_track_1.groupby(['sat_id', 'cycle_index']), position=0):\n",
    "\n",
    "    train = g.query('is_train')\n",
    "    \n",
    "    test = g.query('not is_train')\n",
    "\n",
    "    for var in ('x', 'y', 'z', 'Vx', 'Vy', 'Vz'):\n",
    "        \n",
    "        poly = pd.np.polyfit(\n",
    "            x = train['unix'][-20:], \n",
    "            y = train[var][-20:], \n",
    "            deg = 2\n",
    "        )\n",
    "        \n",
    "        pred = (\n",
    "            functools.reduce(np.add, (coeff * test['unix'] ** i  for i, coeff in enumerate(reversed(poly)))) \n",
    "            \n",
    "        )\n",
    "\n",
    "        preds.append(pd.DataFrame({\n",
    "            'sat_id': sat,\n",
    "            'epoch': test['epoch'],\n",
    "            'id': test['id'],\n",
    "            'y_pred': pred,\n",
    "            'variable': var\n",
    "        }))\n",
    "        \n",
    "preds = pd.concat(preds)"
   ]
  },
  {
   "cell_type": "markdown",
   "metadata": {},
   "source": [
    "The predictions are melted, so we unmelt them."
   ]
  },
  {
   "cell_type": "code",
   "execution_count": null,
   "metadata": {},
   "outputs": [],
   "source": [
    "preds = preds.groupby('sat_id').apply(lambda g: g.pivot_table(index=['id', 'epoch'], columns='variable', values='y_pred')).reset_index()\n",
    "preds.head()"
   ]
  },
  {
   "cell_type": "code",
   "execution_count": null,
   "metadata": {},
   "outputs": [],
   "source": [
    "preds = preds.sort_values(['id'])"
   ]
  },
  {
   "cell_type": "markdown",
   "metadata": {},
   "source": [
    "Take into account the shifts."
   ]
  },
  {
   "cell_type": "code",
   "execution_count": null,
   "metadata": {},
   "outputs": [],
   "source": [
    "correct_preds = []\n",
    "\n",
    "cols_to_shift = ['x', 'y', 'z', 'Vx', 'Vy', 'Vz']\n",
    "\n",
    "for _, g in tqdm.tqdm(preds.groupby('sat_id'), position=0):\n",
    "    \n",
    "    g = g.copy()\n",
    "    dups = g[g['epoch'].diff() < dt.timedelta(seconds=60)].index\n",
    "    \n",
    "    for i in dups:\n",
    "        g.loc[i:, cols_to_shift] = g.loc[i:, cols_to_shift].shift()\n",
    "    g[cols_to_shift] = g[cols_to_shift].ffill()\n",
    "    \n",
    "    correct_preds.append(g)\n",
    "    \n",
    "correct_preds = pd.concat(correct_preds)"
   ]
  },
  {
   "cell_type": "markdown",
   "metadata": {},
   "source": [
    "Save the predictions for track 1. "
   ]
  },
  {
   "cell_type": "code",
   "execution_count": null,
   "metadata": {},
   "outputs": [],
   "source": [
    "correct_preds[['id', 'x', 'y', 'z', 'Vx', 'Vy', 'Vz']].to_csv('results/cr_track_1.csv', index=False)\n",
    "!head -5 results/cr_track_1.csv"
   ]
  },
  {
   "cell_type": "markdown",
   "metadata": {},
   "source": [
    "## Track 2"
   ]
  },
  {
   "cell_type": "markdown",
   "metadata": {},
   "source": [
    "#### Work in progress"
   ]
  }
 ],
 "metadata": {
  "kernelspec": {
   "display_name": "Python 3",
   "language": "python",
   "name": "python3"
  },
  "language_info": {
   "codemirror_mode": {
    "name": "ipython",
    "version": 3
   },
   "file_extension": ".py",
   "mimetype": "text/x-python",
   "name": "python",
   "nbconvert_exporter": "python",
   "pygments_lexer": "ipython3",
   "version": "3.7.4"
  }
 },
 "nbformat": 4,
 "nbformat_minor": 2
}
